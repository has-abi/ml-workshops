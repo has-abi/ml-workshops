{
  "cells": [
    {
      "cell_type": "markdown",
      "id": "rough-idaho",
      "metadata": {
        "id": "rough-idaho"
      },
      "source": [
        "# <font color=blue><center>**Machine Learning supervisé avec R | Modèle de régression | Package CARET**\n",
        "\n"
      ]
    },
    {
      "cell_type": "markdown",
      "id": "floppy-absence",
      "metadata": {
        "id": "floppy-absence"
      },
      "source": [
        "# <font color=red> Importation des packages et des données"
      ]
    },
    {
      "cell_type": "markdown",
      "id": "systematic-resistance",
      "metadata": {
        "id": "systematic-resistance"
      },
      "source": [
        "La librairie [caret](https://www.rdocumentation.org/packages/caret/versions/4.47) est l'un des packages de R les plus utilisés en apprentissage automatique supervisé. C'est principalement cette librairie que nous utiliserons dans cette formation."
      ]
    },
    {
      "cell_type": "code",
      "execution_count": null,
      "id": "afraid-degree",
      "metadata": {
        "id": "afraid-degree"
      },
      "outputs": [],
      "source": [
        "# Packages\n",
        "#install.packages('caret')\n",
        "library(caret)"
      ]
    },
    {
      "cell_type": "markdown",
      "id": "smooth-oxide",
      "metadata": {
        "id": "smooth-oxide"
      },
      "source": [
        "L'ensemble de données que nous utiliserons contient des informations sur les caractéristiques de certaines maisons dans la région de Boston. Il s’agira de construire un modèle de régression linéaire capable de prédire le prix d’une maison en fonction de certains de ses attributs."
      ]
    },
    {
      "cell_type": "code",
      "execution_count": null,
      "id": "municipal-singles",
      "metadata": {
        "id": "municipal-singles",
        "outputId": "60c36f1b-189d-44e0-dc9e-705b035d5119"
      },
      "outputs": [
        {
          "data": {
            "text/html": [
              "<table>\n",
              "<thead><tr><th scope=col>crim</th><th scope=col>zn</th><th scope=col>indus</th><th scope=col>chas</th><th scope=col>nox</th><th scope=col>rm</th><th scope=col>age</th><th scope=col>dis</th><th scope=col>rad</th><th scope=col>tax</th><th scope=col>ptratio</th><th scope=col>b</th><th scope=col>lstat</th><th scope=col>medv</th></tr></thead>\n",
              "<tbody>\n",
              "\t<tr><td>0.00632</td><td>18     </td><td>2.31   </td><td>0      </td><td>0.538  </td><td>6.575  </td><td>65.2   </td><td>4.0900 </td><td>1      </td><td>296    </td><td>15.3   </td><td>396.90 </td><td>4.98   </td><td>24.0   </td></tr>\n",
              "\t<tr><td>0.02731</td><td> 0     </td><td>7.07   </td><td>0      </td><td>0.469  </td><td>6.421  </td><td>78.9   </td><td>4.9671 </td><td>2      </td><td>242    </td><td>17.8   </td><td>396.90 </td><td>9.14   </td><td>21.6   </td></tr>\n",
              "\t<tr><td>0.02729</td><td> 0     </td><td>7.07   </td><td>0      </td><td>0.469  </td><td>7.185  </td><td>61.1   </td><td>4.9671 </td><td>2      </td><td>242    </td><td>17.8   </td><td>392.83 </td><td>4.03   </td><td>34.7   </td></tr>\n",
              "\t<tr><td>0.03237</td><td> 0     </td><td>2.18   </td><td>0      </td><td>0.458  </td><td>6.998  </td><td>45.8   </td><td>6.0622 </td><td>3      </td><td>222    </td><td>18.7   </td><td>394.63 </td><td>2.94   </td><td>33.4   </td></tr>\n",
              "\t<tr><td>0.06905</td><td> 0     </td><td>2.18   </td><td>0      </td><td>0.458  </td><td>7.147  </td><td>54.2   </td><td>6.0622 </td><td>3      </td><td>222    </td><td>18.7   </td><td>396.90 </td><td>5.33   </td><td>36.2   </td></tr>\n",
              "\t<tr><td>0.02985</td><td> 0     </td><td>2.18   </td><td>0      </td><td>0.458  </td><td>6.430  </td><td>58.7   </td><td>6.0622 </td><td>3      </td><td>222    </td><td>18.7   </td><td>394.12 </td><td>5.21   </td><td>28.7   </td></tr>\n",
              "</tbody>\n",
              "</table>\n"
            ],
            "text/latex": [
              "\\begin{tabular}{r|llllllllllllll}\n",
              " crim & zn & indus & chas & nox & rm & age & dis & rad & tax & ptratio & b & lstat & medv\\\\\n",
              "\\hline\n",
              "\t 0.00632 & 18      & 2.31    & 0       & 0.538   & 6.575   & 65.2    & 4.0900  & 1       & 296     & 15.3    & 396.90  & 4.98    & 24.0   \\\\\n",
              "\t 0.02731 &  0      & 7.07    & 0       & 0.469   & 6.421   & 78.9    & 4.9671  & 2       & 242     & 17.8    & 396.90  & 9.14    & 21.6   \\\\\n",
              "\t 0.02729 &  0      & 7.07    & 0       & 0.469   & 7.185   & 61.1    & 4.9671  & 2       & 242     & 17.8    & 392.83  & 4.03    & 34.7   \\\\\n",
              "\t 0.03237 &  0      & 2.18    & 0       & 0.458   & 6.998   & 45.8    & 6.0622  & 3       & 222     & 18.7    & 394.63  & 2.94    & 33.4   \\\\\n",
              "\t 0.06905 &  0      & 2.18    & 0       & 0.458   & 7.147   & 54.2    & 6.0622  & 3       & 222     & 18.7    & 396.90  & 5.33    & 36.2   \\\\\n",
              "\t 0.02985 &  0      & 2.18    & 0       & 0.458   & 6.430   & 58.7    & 6.0622  & 3       & 222     & 18.7    & 394.12  & 5.21    & 28.7   \\\\\n",
              "\\end{tabular}\n"
            ],
            "text/markdown": [
              "\n",
              "| crim | zn | indus | chas | nox | rm | age | dis | rad | tax | ptratio | b | lstat | medv |\n",
              "|---|---|---|---|---|---|---|---|---|---|---|---|---|---|\n",
              "| 0.00632 | 18      | 2.31    | 0       | 0.538   | 6.575   | 65.2    | 4.0900  | 1       | 296     | 15.3    | 396.90  | 4.98    | 24.0    |\n",
              "| 0.02731 |  0      | 7.07    | 0       | 0.469   | 6.421   | 78.9    | 4.9671  | 2       | 242     | 17.8    | 396.90  | 9.14    | 21.6    |\n",
              "| 0.02729 |  0      | 7.07    | 0       | 0.469   | 7.185   | 61.1    | 4.9671  | 2       | 242     | 17.8    | 392.83  | 4.03    | 34.7    |\n",
              "| 0.03237 |  0      | 2.18    | 0       | 0.458   | 6.998   | 45.8    | 6.0622  | 3       | 222     | 18.7    | 394.63  | 2.94    | 33.4    |\n",
              "| 0.06905 |  0      | 2.18    | 0       | 0.458   | 7.147   | 54.2    | 6.0622  | 3       | 222     | 18.7    | 396.90  | 5.33    | 36.2    |\n",
              "| 0.02985 |  0      | 2.18    | 0       | 0.458   | 6.430   | 58.7    | 6.0622  | 3       | 222     | 18.7    | 394.12  | 5.21    | 28.7    |\n",
              "\n"
            ],
            "text/plain": [
              "  crim    zn indus chas nox   rm    age  dis    rad tax ptratio b      lstat\n",
              "1 0.00632 18 2.31  0    0.538 6.575 65.2 4.0900 1   296 15.3    396.90 4.98 \n",
              "2 0.02731  0 7.07  0    0.469 6.421 78.9 4.9671 2   242 17.8    396.90 9.14 \n",
              "3 0.02729  0 7.07  0    0.469 7.185 61.1 4.9671 2   242 17.8    392.83 4.03 \n",
              "4 0.03237  0 2.18  0    0.458 6.998 45.8 6.0622 3   222 18.7    394.63 2.94 \n",
              "5 0.06905  0 2.18  0    0.458 7.147 54.2 6.0622 3   222 18.7    396.90 5.33 \n",
              "6 0.02985  0 2.18  0    0.458 6.430 58.7 6.0622 3   222 18.7    394.12 5.21 \n",
              "  medv\n",
              "1 24.0\n",
              "2 21.6\n",
              "3 34.7\n",
              "4 33.4\n",
              "5 36.2\n",
              "6 28.7"
            ]
          },
          "metadata": {},
          "output_type": "display_data"
        }
      ],
      "source": [
        "# Importation des données\n",
        "boston <- read.csv(\"C:/Users/ACER/Desktop/Régression Linéaire/test en R/BostonHousing.csv\")\n",
        "head(boston)\n"
      ]
    },
    {
      "cell_type": "code",
      "execution_count": null,
      "id": "d066d429",
      "metadata": {
        "id": "d066d429",
        "outputId": "f9f08301-5be1-4dd3-db96-121bc57ed22b"
      },
      "outputs": [
        {
          "data": {
            "text/html": [
              "<ol class=list-inline>\n",
              "\t<li>506</li>\n",
              "\t<li>14</li>\n",
              "</ol>\n"
            ],
            "text/latex": [
              "\\begin{enumerate*}\n",
              "\\item 506\n",
              "\\item 14\n",
              "\\end{enumerate*}\n"
            ],
            "text/markdown": [
              "1. 506\n",
              "2. 14\n",
              "\n",
              "\n"
            ],
            "text/plain": [
              "[1] 506  14"
            ]
          },
          "metadata": {},
          "output_type": "display_data"
        }
      ],
      "source": [
        "dim(boston)"
      ]
    },
    {
      "cell_type": "code",
      "execution_count": null,
      "id": "eligible-subscriber",
      "metadata": {
        "id": "eligible-subscriber",
        "outputId": "7a4e7942-d81f-4bab-980b-562a495a0a41"
      },
      "outputs": [
        {
          "name": "stdout",
          "output_type": "stream",
          "text": [
            "'data.frame':\t506 obs. of  14 variables:\n",
            " $ crim   : num  0.00632 0.02731 0.02729 0.03237 0.06905 ...\n",
            " $ zn     : num  18 0 0 0 0 0 12.5 12.5 12.5 12.5 ...\n",
            " $ indus  : num  2.31 7.07 7.07 2.18 2.18 2.18 7.87 7.87 7.87 7.87 ...\n",
            " $ chas   : int  0 0 0 0 0 0 0 0 0 0 ...\n",
            " $ nox    : num  0.538 0.469 0.469 0.458 0.458 0.458 0.524 0.524 0.524 0.524 ...\n",
            " $ rm     : num  6.58 6.42 7.18 7 7.15 ...\n",
            " $ age    : num  65.2 78.9 61.1 45.8 54.2 58.7 66.6 96.1 100 85.9 ...\n",
            " $ dis    : num  4.09 4.97 4.97 6.06 6.06 ...\n",
            " $ rad    : int  1 2 2 3 3 3 5 5 5 5 ...\n",
            " $ tax    : int  296 242 242 222 222 222 311 311 311 311 ...\n",
            " $ ptratio: num  15.3 17.8 17.8 18.7 18.7 18.7 15.2 15.2 15.2 15.2 ...\n",
            " $ b      : num  397 397 393 395 397 ...\n",
            " $ lstat  : num  4.98 9.14 4.03 2.94 5.33 ...\n",
            " $ medv   : num  24 21.6 34.7 33.4 36.2 28.7 22.9 27.1 16.5 18.9 ...\n"
          ]
        }
      ],
      "source": [
        "# Structure des données\n",
        "str(boston)"
      ]
    },
    {
      "cell_type": "code",
      "execution_count": null,
      "id": "abstract-introduction",
      "metadata": {
        "id": "abstract-introduction",
        "outputId": "51688644-ed27-4128-db00-08710da8f905"
      },
      "outputs": [
        {
          "data": {
            "text/plain": [
              "      crim                zn             indus            chas        \n",
              " Min.   : 0.00632   Min.   :  0.00   Min.   : 0.46   Min.   :0.00000  \n",
              " 1st Qu.: 0.08204   1st Qu.:  0.00   1st Qu.: 5.19   1st Qu.:0.00000  \n",
              " Median : 0.25651   Median :  0.00   Median : 9.69   Median :0.00000  \n",
              " Mean   : 3.61352   Mean   : 11.36   Mean   :11.14   Mean   :0.06917  \n",
              " 3rd Qu.: 3.67708   3rd Qu.: 12.50   3rd Qu.:18.10   3rd Qu.:0.00000  \n",
              " Max.   :88.97620   Max.   :100.00   Max.   :27.74   Max.   :1.00000  \n",
              "      nox               rm             age              dis        \n",
              " Min.   :0.3850   Min.   :3.561   Min.   :  2.90   Min.   : 1.130  \n",
              " 1st Qu.:0.4490   1st Qu.:5.886   1st Qu.: 45.02   1st Qu.: 2.100  \n",
              " Median :0.5380   Median :6.208   Median : 77.50   Median : 3.207  \n",
              " Mean   :0.5547   Mean   :6.285   Mean   : 68.57   Mean   : 3.795  \n",
              " 3rd Qu.:0.6240   3rd Qu.:6.623   3rd Qu.: 94.08   3rd Qu.: 5.188  \n",
              " Max.   :0.8710   Max.   :8.780   Max.   :100.00   Max.   :12.127  \n",
              "      rad              tax           ptratio            b         \n",
              " Min.   : 1.000   Min.   :187.0   Min.   :12.60   Min.   :  0.32  \n",
              " 1st Qu.: 4.000   1st Qu.:279.0   1st Qu.:17.40   1st Qu.:375.38  \n",
              " Median : 5.000   Median :330.0   Median :19.05   Median :391.44  \n",
              " Mean   : 9.549   Mean   :408.2   Mean   :18.46   Mean   :356.67  \n",
              " 3rd Qu.:24.000   3rd Qu.:666.0   3rd Qu.:20.20   3rd Qu.:396.23  \n",
              " Max.   :24.000   Max.   :711.0   Max.   :22.00   Max.   :396.90  \n",
              "     lstat            medv      \n",
              " Min.   : 1.73   Min.   : 5.00  \n",
              " 1st Qu.: 6.95   1st Qu.:17.02  \n",
              " Median :11.36   Median :21.20  \n",
              " Mean   :12.65   Mean   :22.53  \n",
              " 3rd Qu.:16.95   3rd Qu.:25.00  \n",
              " Max.   :37.97   Max.   :50.00  "
            ]
          },
          "metadata": {},
          "output_type": "display_data"
        }
      ],
      "source": [
        "# Résumé statistique\n",
        "summary(boston)"
      ]
    },
    {
      "cell_type": "markdown",
      "id": "fbecbd97",
      "metadata": {
        "id": "fbecbd97"
      },
      "source": [
        "La dataframe contient 506 lignes (chaque ligne représente une maison) et 14 variables. Pour\n",
        "comprendre la signification de chaque variable, veuillez-vous reporter à la [page descriptive](https://docs.google.com/document/d/1dbxF1zLP1QkI49sezETuauwFHVccpA7gdqxwRwdN2Jw/edit?usp=sharing)\n",
        "de ces données. La variable ***MEDV*** est notre variable d’intérêt. Elle indique le prix\n",
        "des maisons en millier de dollars.\n",
        "\n",
        "Apparemment, il n’y a pas de valeurs manquantes dans la dataframe. "
      ]
    },
    {
      "cell_type": "markdown",
      "id": "written-timer",
      "metadata": {
        "id": "written-timer"
      },
      "source": [
        "# <font color=red> Données d'entraînement et d'évaluation (*Train/Test*)"
      ]
    },
    {
      "cell_type": "code",
      "execution_count": null,
      "id": "developed-sussex",
      "metadata": {
        "id": "developed-sussex",
        "outputId": "1a32c59e-cbfa-4bc0-ce2f-3fb7bdc9a3ac"
      },
      "outputs": [
        {
          "data": {
            "text/html": [
              "<table>\n",
              "<thead><tr><th></th><th scope=col>crim</th><th scope=col>zn</th><th scope=col>indus</th><th scope=col>chas</th><th scope=col>nox</th><th scope=col>rm</th><th scope=col>age</th><th scope=col>dis</th><th scope=col>rad</th><th scope=col>tax</th><th scope=col>ptratio</th><th scope=col>b</th><th scope=col>lstat</th><th scope=col>medv</th></tr></thead>\n",
              "<tbody>\n",
              "\t<tr><th scope=row>415</th><td>45.74610</td><td> 0      </td><td>18.10   </td><td>0       </td><td>0.693   </td><td>4.519   </td><td>100.0   </td><td>1.6582  </td><td>24      </td><td>666     </td><td>20.2    </td><td> 88.27  </td><td>36.98   </td><td> 7.0    </td></tr>\n",
              "\t<tr><th scope=row>463</th><td> 6.65492</td><td> 0      </td><td>18.10   </td><td>0       </td><td>0.713   </td><td>6.317   </td><td> 83.0   </td><td>2.7344  </td><td>24      </td><td>666     </td><td>20.2    </td><td>396.90  </td><td>13.99   </td><td>19.5    </td></tr>\n",
              "\t<tr><th scope=row>179</th><td> 0.06642</td><td> 0      </td><td> 4.05   </td><td>0       </td><td>0.510   </td><td>6.860   </td><td> 74.4   </td><td>2.9153  </td><td> 5      </td><td>296     </td><td>16.6    </td><td>391.27  </td><td> 6.92   </td><td>29.9    </td></tr>\n",
              "\t<tr><th scope=row>14</th><td> 0.62976</td><td> 0      </td><td> 8.14   </td><td>0       </td><td>0.538   </td><td>5.949   </td><td> 61.8   </td><td>4.7075  </td><td> 4      </td><td>307     </td><td>21.0    </td><td>396.90  </td><td> 8.26   </td><td>20.4    </td></tr>\n",
              "\t<tr><th scope=row>195</th><td> 0.01439</td><td>60      </td><td> 2.93   </td><td>0       </td><td>0.401   </td><td>6.604   </td><td> 18.8   </td><td>6.2196  </td><td> 1      </td><td>265     </td><td>15.6    </td><td>376.70  </td><td> 4.38   </td><td>29.1    </td></tr>\n",
              "\t<tr><th scope=row>426</th><td>15.86030</td><td> 0      </td><td>18.10   </td><td>0       </td><td>0.679   </td><td>5.896   </td><td> 95.4   </td><td>1.9096  </td><td>24      </td><td>666     </td><td>20.2    </td><td>  7.68  </td><td>24.39   </td><td> 8.3    </td></tr>\n",
              "</tbody>\n",
              "</table>\n"
            ],
            "text/latex": [
              "\\begin{tabular}{r|llllllllllllll}\n",
              "  & crim & zn & indus & chas & nox & rm & age & dis & rad & tax & ptratio & b & lstat & medv\\\\\n",
              "\\hline\n",
              "\t415 & 45.74610 &  0       & 18.10    & 0        & 0.693    & 4.519    & 100.0    & 1.6582   & 24       & 666      & 20.2     &  88.27   & 36.98    &  7.0    \\\\\n",
              "\t463 &  6.65492 &  0       & 18.10    & 0        & 0.713    & 6.317    &  83.0    & 2.7344   & 24       & 666      & 20.2     & 396.90   & 13.99    & 19.5    \\\\\n",
              "\t179 &  0.06642 &  0       &  4.05    & 0        & 0.510    & 6.860    &  74.4    & 2.9153   &  5       & 296      & 16.6     & 391.27   &  6.92    & 29.9    \\\\\n",
              "\t14 &  0.62976 &  0       &  8.14    & 0        & 0.538    & 5.949    &  61.8    & 4.7075   &  4       & 307      & 21.0     & 396.90   &  8.26    & 20.4    \\\\\n",
              "\t195 &  0.01439 & 60       &  2.93    & 0        & 0.401    & 6.604    &  18.8    & 6.2196   &  1       & 265      & 15.6     & 376.70   &  4.38    & 29.1    \\\\\n",
              "\t426 & 15.86030 &  0       & 18.10    & 0        & 0.679    & 5.896    &  95.4    & 1.9096   & 24       & 666      & 20.2     &   7.68   & 24.39    &  8.3    \\\\\n",
              "\\end{tabular}\n"
            ],
            "text/markdown": [
              "\n",
              "| <!--/--> | crim | zn | indus | chas | nox | rm | age | dis | rad | tax | ptratio | b | lstat | medv |\n",
              "|---|---|---|---|---|---|---|---|---|---|---|---|---|---|---|\n",
              "| 415 | 45.74610 |  0       | 18.10    | 0        | 0.693    | 4.519    | 100.0    | 1.6582   | 24       | 666      | 20.2     |  88.27   | 36.98    |  7.0     |\n",
              "| 463 |  6.65492 |  0       | 18.10    | 0        | 0.713    | 6.317    |  83.0    | 2.7344   | 24       | 666      | 20.2     | 396.90   | 13.99    | 19.5     |\n",
              "| 179 |  0.06642 |  0       |  4.05    | 0        | 0.510    | 6.860    |  74.4    | 2.9153   |  5       | 296      | 16.6     | 391.27   |  6.92    | 29.9     |\n",
              "| 14 |  0.62976 |  0       |  8.14    | 0        | 0.538    | 5.949    |  61.8    | 4.7075   |  4       | 307      | 21.0     | 396.90   |  8.26    | 20.4     |\n",
              "| 195 |  0.01439 | 60       |  2.93    | 0        | 0.401    | 6.604    |  18.8    | 6.2196   |  1       | 265      | 15.6     | 376.70   |  4.38    | 29.1     |\n",
              "| 426 | 15.86030 |  0       | 18.10    | 0        | 0.679    | 5.896    |  95.4    | 1.9096   | 24       | 666      | 20.2     |   7.68   | 24.39    |  8.3     |\n",
              "\n"
            ],
            "text/plain": [
              "    crim     zn indus chas nox   rm    age   dis    rad tax ptratio b     \n",
              "415 45.74610  0 18.10 0    0.693 4.519 100.0 1.6582 24  666 20.2     88.27\n",
              "463  6.65492  0 18.10 0    0.713 6.317  83.0 2.7344 24  666 20.2    396.90\n",
              "179  0.06642  0  4.05 0    0.510 6.860  74.4 2.9153  5  296 16.6    391.27\n",
              "14   0.62976  0  8.14 0    0.538 5.949  61.8 4.7075  4  307 21.0    396.90\n",
              "195  0.01439 60  2.93 0    0.401 6.604  18.8 6.2196  1  265 15.6    376.70\n",
              "426 15.86030  0 18.10 0    0.679 5.896  95.4 1.9096 24  666 20.2      7.68\n",
              "    lstat medv\n",
              "415 36.98  7.0\n",
              "463 13.99 19.5\n",
              "179  6.92 29.9\n",
              "14   8.26 20.4\n",
              "195  4.38 29.1\n",
              "426 24.39  8.3"
            ]
          },
          "metadata": {},
          "output_type": "display_data"
        }
      ],
      "source": [
        "# Mélange aléatoire des données\n",
        "\n",
        "seed <- 123\n",
        "\n",
        "set.seed(seed)\n",
        "\n",
        "rows <- sample(nrow(boston))\n",
        "\n",
        "boston_mel <- boston[rows, ]\n",
        "\n",
        "head(boston_mel)"
      ]
    },
    {
      "cell_type": "code",
      "execution_count": null,
      "id": "wireless-language",
      "metadata": {
        "id": "wireless-language"
      },
      "outputs": [],
      "source": [
        "# Division en données d'entraînement (80%) et Données d'évaluation (20%)\n",
        "\n",
        "split <- round(nrow(boston_mel) * 0.80)\n",
        "\n",
        "# Train data\n",
        "\n",
        "train <- boston_mel[1:split, ]\n",
        "\n",
        "# Test data\n",
        "\n",
        "test <- boston_mel[(split + 1):nrow(boston_mel), ]"
      ]
    },
    {
      "cell_type": "code",
      "execution_count": null,
      "id": "valid-university",
      "metadata": {
        "id": "valid-university",
        "outputId": "14d4b1d3-6e87-42a6-918d-158b061bb5aa"
      },
      "outputs": [
        {
          "data": {
            "text/html": [
              "<ol class=list-inline>\n",
              "\t<li>405</li>\n",
              "\t<li>14</li>\n",
              "</ol>\n"
            ],
            "text/latex": [
              "\\begin{enumerate*}\n",
              "\\item 405\n",
              "\\item 14\n",
              "\\end{enumerate*}\n"
            ],
            "text/markdown": [
              "1. 405\n",
              "2. 14\n",
              "\n",
              "\n"
            ],
            "text/plain": [
              "[1] 405  14"
            ]
          },
          "metadata": {},
          "output_type": "display_data"
        }
      ],
      "source": [
        "# Dimension du train data\n",
        "\n",
        "dim(train)"
      ]
    },
    {
      "cell_type": "code",
      "execution_count": null,
      "id": "public-satin",
      "metadata": {
        "id": "public-satin",
        "outputId": "49a36de0-0522-4a5b-f216-2dad4f228364"
      },
      "outputs": [
        {
          "data": {
            "text/html": [
              "<ol class=list-inline>\n",
              "\t<li>101</li>\n",
              "\t<li>14</li>\n",
              "</ol>\n"
            ],
            "text/latex": [
              "\\begin{enumerate*}\n",
              "\\item 101\n",
              "\\item 14\n",
              "\\end{enumerate*}\n"
            ],
            "text/markdown": [
              "1. 101\n",
              "2. 14\n",
              "\n",
              "\n"
            ],
            "text/plain": [
              "[1] 101  14"
            ]
          },
          "metadata": {},
          "output_type": "display_data"
        }
      ],
      "source": [
        "# Dimension du test data\n",
        "\n",
        "dim(test)"
      ]
    },
    {
      "cell_type": "markdown",
      "id": "sporting-royal",
      "metadata": {
        "id": "sporting-royal"
      },
      "source": [
        "# <font color=red> Modèle et calcul de l'erreur quadratique moyenne"
      ]
    },
    {
      "cell_type": "markdown",
      "id": "8a6f5560",
      "metadata": {
        "id": "8a6f5560"
      },
      "source": [
        "# Régression Linéaire simple"
      ]
    },
    {
      "cell_type": "code",
      "execution_count": null,
      "id": "fleet-secondary",
      "metadata": {
        "id": "fleet-secondary",
        "outputId": "4fad006e-c41c-4232-c2c1-e2b15c7d9748"
      },
      "outputs": [
        {
          "data": {
            "text/plain": [
              "\n",
              "Call:\n",
              "lm(formula = medv ~ rm, data = train)\n",
              "\n",
              "Coefficients:\n",
              "(Intercept)           rm  \n",
              "    -35.185        9.193  \n"
            ]
          },
          "metadata": {},
          "output_type": "display_data"
        }
      ],
      "source": [
        "# Construction du modèle à partir des données d'entraînement\n",
        "#régression simple\n",
        "model <- lm(medv ~rm, data = train)\n",
        "# Affichage du modèle\n",
        "model"
      ]
    },
    {
      "cell_type": "code",
      "execution_count": null,
      "id": "29bde356",
      "metadata": {
        "id": "29bde356",
        "outputId": "49fbed44-5a7a-40b6-9e1b-00f6591c2c39"
      },
      "outputs": [
        {
          "data": {
            "image/png": "[encoded data removed]",
            "text/plain": [
              "plot without title"
            ]
          },
          "metadata": {},
          "output_type": "display_data"
        }
      ],
      "source": [
        "\n",
        "plot(medv~rm,data=train)\n",
        "abline(model,col=\"red\")"
      ]
    },
    {
      "cell_type": "markdown",
      "id": "opposed-moscow",
      "metadata": {
        "id": "opposed-moscow"
      },
      "source": [
        "Passons à l'évaluation de la performance du modèle. Il s'agit de vérifier la capacité du modèle sur des données qui n'ont pas servi à son entraînement c'est-à-dire sa capacité à se généraliser."
      ]
    },
    {
      "cell_type": "code",
      "execution_count": null,
      "id": "constitutional-montreal",
      "metadata": {
        "id": "constitutional-montreal"
      },
      "outputs": [],
      "source": [
        "# Création d'une Fonction d'évaluation de modèle\n",
        "\n",
        "model_evaluation <- function (Model) {\n",
        "    \n",
        "    # Prédiction sur le train data\n",
        "    \n",
        "    preds_train <- predict(Model, train)\n",
        "    \n",
        "    # Prédictions sur le test data\n",
        "    \n",
        "    preds_test <- predict(Model, test)\n",
        "    \n",
        "    # Erreur sur le train data\n",
        "    \n",
        "    error_train <- preds_train - train[, \"medv\"]\n",
        "    \n",
        "    # Erreur sur le test data\n",
        "    \n",
        "    error_test <- preds_test - test[, \"medv\"]\n",
        "    \n",
        "    # RMSE sur les train data\n",
        "    \n",
        "    rmse_train <- sqrt(mean(error_train ^ 2))\n",
        "    \n",
        "    # RMSE sur le test data\n",
        "    \n",
        "    rmse_test <- sqrt(mean(error_test ^ 2))\n",
        "    \n",
        "    print(paste(\"RMSE sur le train data :\", rmse_train))\n",
        "    \n",
        "    print(paste('RMSE sur le test data :', rmse_test))\n",
        "}"
      ]
    },
    {
      "cell_type": "code",
      "execution_count": null,
      "id": "matched-pierce",
      "metadata": {
        "id": "matched-pierce",
        "outputId": "000453fb-c35d-4afe-81bb-aae5f547c95f"
      },
      "outputs": [
        {
          "name": "stdout",
          "output_type": "stream",
          "text": [
            "[1] \"RMSE sur le train data : 6.63596089157829\"\n",
            "[1] \"RMSE sur le test data : 6.4724247204069\"\n"
          ]
        }
      ],
      "source": [
        "# Evaluation du modèle 'model'\n",
        "model_evaluation(model)"
      ]
    },
    {
      "cell_type": "markdown",
      "id": "a264af09",
      "metadata": {
        "id": "a264af09"
      },
      "source": [
        "# Régression Linéaire multiple"
      ]
    },
    {
      "cell_type": "code",
      "execution_count": null,
      "id": "a3b0d685",
      "metadata": {
        "id": "a3b0d685",
        "outputId": "75076863-fd0e-4df6-fd79-b0ad8135ca69"
      },
      "outputs": [
        {
          "data": {
            "text/plain": [
              "\n",
              "Call:\n",
              "lm(formula = medv ~ ., data = train)\n",
              "\n",
              "Coefficients:\n",
              "(Intercept)         crim           zn        indus         chas          nox  \n",
              "  40.107503    -0.103141     0.049039     0.017708     3.105154   -18.579208  \n",
              "         rm          age          dis          rad          tax      ptratio  \n",
              "   3.434734     0.011500    -1.471504     0.313390    -0.011656    -0.986143  \n",
              "          b        lstat  \n",
              "   0.007494    -0.588722  \n"
            ]
          },
          "metadata": {},
          "output_type": "display_data"
        }
      ],
      "source": [
        "# Construction du modèle à partir des données d'entraînement\n",
        "model2 <- lm(medv ~., data = train)\n",
        "# Affichage du modèle\n",
        "model2"
      ]
    },
    {
      "cell_type": "code",
      "execution_count": null,
      "id": "014eb7fd",
      "metadata": {
        "id": "014eb7fd",
        "outputId": "9911d3fa-1275-4dc3-8ddd-ef76d88148b1"
      },
      "outputs": [
        {
          "name": "stdout",
          "output_type": "stream",
          "text": [
            "[1] \"RMSE sur le train data : 4.64293589760047\"\n",
            "[1] \"RMSE sur le test data : 4.8894390354948\"\n"
          ]
        }
      ],
      "source": [
        "# Evaluation du modèle 'model'\n",
        "model_evaluation(model2)"
      ]
    }
  ],
  "metadata": {
    "kernelspec": {
      "display_name": "R",
      "language": "R",
      "name": "ir"
    },
    "language_info": {
      "codemirror_mode": "r",
      "file_extension": ".r",
      "mimetype": "text/x-r-source",
      "name": "R",
      "pygments_lexer": "r",
      "version": "3.6.1"
    },
    "colab": {
      "name": "Regression avec R.ipynb",
      "provenance": [],
      "collapsed_sections": []
    }
  },
  "nbformat": 4,
  "nbformat_minor": 5
}