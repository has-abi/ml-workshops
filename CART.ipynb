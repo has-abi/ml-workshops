{
 "cells": [
  {
   "cell_type": "markdown",
   "id": "fd6a6a93",
   "metadata": {},
   "source": [
    "# Implémentation de l'algorithme de l'arbre de décision CART"
   ]
  },
  {
   "cell_type": "markdown",
   "id": "093e8ec2",
   "metadata": {},
   "source": [
    "### Algorithme de l'arbre de décision\n",
    "Les modèles d'arbre de décision fonctionne en partitionnant de manière à répétée les données en plusieurs sous-espaces, de sorte que les résultats dans chaque sous-espace final soient aussi homogènes que possible. Cette approche est techniquement appelée partitionnement récursif.\n",
    "Le résultat produit consiste en un ensemble de règles utilisées pour prédire la variable de résultat, qui peut être soit :\n",
    "1. une variable continue, pour les arbres de régression\n",
    "2. une variable catégorielle, pour les arbres de classification \n",
    "    \n",
    "<p>Les règles de décision générées par le modèle prédictif CART sont généralement visualisées sous la forme d'un arbre binaire.</p>"
   ]
  },
  {
   "cell_type": "markdown",
   "id": "eaf2c78d",
   "metadata": {},
   "source": [
    "#### **Installation et Importation des packages nécessaires**"
   ]
  },
  {
   "cell_type": "code",
   "execution_count": 12,
   "id": "9dce72a7",
   "metadata": {},
   "outputs": [
    {
     "name": "stderr",
     "output_type": "stream",
     "text": [
      "── Attaching packages ─────────────────────────────────────── tidyverse 1.3.1 ──\n",
      "✔ ggplot2 3.3.4     ✔ purrr   0.3.4\n",
      "✔ tibble  3.1.1     ✔ dplyr   1.0.7\n",
      "✔ tidyr   1.1.3     ✔ stringr 1.4.0\n",
      "✔ readr   2.1.1     ✔ forcats 0.5.1\n",
      "── Conflicts ────────────────────────────────────────── tidyverse_conflicts() ──\n",
      "✖ dplyr::filter() masks stats::filter()\n",
      "✖ dplyr::lag()    masks stats::lag()\n",
      "Loading required package: lattice\n",
      "\n",
      "Attaching package: ‘caret’\n",
      "\n",
      "The following object is masked from ‘package:purrr’:\n",
      "\n",
      "    lift\n",
      "\n",
      "\n",
      "Attaching package: ‘magrittr’\n",
      "\n",
      "The following object is masked from ‘package:purrr’:\n",
      "\n",
      "    set_names\n",
      "\n",
      "The following object is masked from ‘package:tidyr’:\n",
      "\n",
      "    extract\n",
      "\n"
     ]
    }
   ],
   "source": [
    "#install.packages(\"tidyverse\")\n",
    "#install.packages(\"caret\")\n",
    "#install.packages(\"stringi\")\n",
    "#install.packages(\"numDeriv\")\n",
    "#install.packages(\"magrittr\")\n",
    "#install.packages(\"mlbench\")\n",
    "\n",
    "library(tidyverse)  \n",
    "library(caret)      \n",
    "library(rpart)\n",
    "library(numDeriv)\n",
    "library(magrittr)\n",
    "library(mlbench)"
   ]
  },
  {
   "cell_type": "markdown",
   "id": "f22b2bc2",
   "metadata": {},
   "source": [
    "#### **Description des packages**\n",
    "1. Le **tidyverse** est une collection de packages R conçus pour la science des données. Tous les packages partagent une philosophie de conception, une grammaire et des structures de données sous-jacentes (dplyr, ggplot2, readr, stringr, purrr, tidyr, tibble).\n",
    "2. Le **caret** (abréviation de Classification And Regression Training) est un ensemble de fonctions qui tentent de rationaliser le processus de création de modèles prédictifs. Le package contient des outils pour :\n",
    "\n",
    "* le fractionnement des données\n",
    "* le prétraitement\n",
    "* la sélection des caractéristiques\n",
    "* le réglage du modèle en utilisant le rééchantillonnage\n",
    "* l'estimation de l'importance des variables\n",
    "3. Le **stringi** est Une collection d'outils de traitement des chaînes de caractères, du texte et du langage naturel pour la recherche de motifs (par exemple, avec des expressions régulières de type \"Java\" ou l'algorithme de collation \"Unicode\"), la génération de chaînes aléatoires, la mise en correspondance des majuscules et des minuscules, la translittération des chaînes, la concaténation, le tri, le remplissage, l'emballage, la normalisation Unicode, le formatage et l'analyse de la date et de l'heure, etc.\n",
    "4. Les **numDeriv** (Accurate Numerical Derivatives) Contient les méthodes de calcul des dérivées numériques (généralement) exactes de premier et second ordre\n",
    "5. Le **magrittr** a deux objectifs : réduire le temps de développement et améliorer la lisibilité et la maintenabilité du code.\n",
    "6. Le **mlbench** est Une collection de problèmes de référence d'apprentissage automatique artificiels et réels, y compris, par exemple, plusieurs ensembles de données provenant du répository de l'UCI.\n"
   ]
  },
  {
   "cell_type": "markdown",
   "id": "432e365f",
   "metadata": {},
   "source": [
    "#### **Un modèle simple de l'arbre de décision en utilisant le jeux de donnée iris**"
   ]
  },
  {
   "cell_type": "markdown",
   "id": "45f3fb44",
   "metadata": {},
   "source": [
    "L'ensemble de données sur les fleurs d'iris ou ensemble de données sur les iris de Fisher est un ensemble de données multivariées introduit par le statisticien et biologiste britannique Ronald Fisher dans son article de 1936 intitulé The use of multiple measurements in taxonomic problems as an example of linear discriminant analysis.\n",
    "\n",
    "| Les caractéristiques de dataset  |`Multivariate`      | Nombre d'instance    | `150`  |\n",
    "| ---------------------------------|:------------------:|:--------------------:|-------:|\n",
    "|**Caractéristique de l'atribut**  |**`Réel`**          |**Nombre d'atrributs**|**`4`** |\n",
    "| **Les Tasks Associées**          |**`Classification`**|**Valeurs manquantes**|**`No`**|\n",
    "\n",
    "**Information sur les attributs:**\n",
    "1. La longueur de sepal est en cm\n",
    "2. La largeur de sepal est en cm\n",
    "3. La longeur de petal est en cm\n",
    "4. La largeur de petal est en cm\n",
    "**Les classes**:\n",
    "+ Iris Setosa\n",
    "+ Iris Versicolor\n",
    "+ Iris Virginica"
   ]
  },
  {
   "cell_type": "code",
   "execution_count": 9,
   "id": "09ec481b",
   "metadata": {},
   "outputs": [
    {
     "data": {
      "text/html": [
       "<table>\n",
       "<thead><tr><th scope=col>Sepal.Length</th><th scope=col>Sepal.Width</th><th scope=col>Petal.Length</th><th scope=col>Petal.Width</th><th scope=col>Species</th></tr></thead>\n",
       "<tbody>\n",
       "\t<tr><td>5.1   </td><td>3.5   </td><td>1.4   </td><td>0.2   </td><td>setosa</td></tr>\n",
       "\t<tr><td>4.9   </td><td>3.0   </td><td>1.4   </td><td>0.2   </td><td>setosa</td></tr>\n",
       "\t<tr><td>4.7   </td><td>3.2   </td><td>1.3   </td><td>0.2   </td><td>setosa</td></tr>\n",
       "\t<tr><td>4.6   </td><td>3.1   </td><td>1.5   </td><td>0.2   </td><td>setosa</td></tr>\n",
       "\t<tr><td>5.0   </td><td>3.6   </td><td>1.4   </td><td>0.2   </td><td>setosa</td></tr>\n",
       "\t<tr><td>5.4   </td><td>3.9   </td><td>1.7   </td><td>0.4   </td><td>setosa</td></tr>\n",
       "</tbody>\n",
       "</table>\n"
      ],
      "text/latex": [
       "\\begin{tabular}{r|lllll}\n",
       " Sepal.Length & Sepal.Width & Petal.Length & Petal.Width & Species\\\\\n",
       "\\hline\n",
       "\t 5.1    & 3.5    & 1.4    & 0.2    & setosa\\\\\n",
       "\t 4.9    & 3.0    & 1.4    & 0.2    & setosa\\\\\n",
       "\t 4.7    & 3.2    & 1.3    & 0.2    & setosa\\\\\n",
       "\t 4.6    & 3.1    & 1.5    & 0.2    & setosa\\\\\n",
       "\t 5.0    & 3.6    & 1.4    & 0.2    & setosa\\\\\n",
       "\t 5.4    & 3.9    & 1.7    & 0.4    & setosa\\\\\n",
       "\\end{tabular}\n"
      ],
      "text/markdown": [
       "\n",
       "| Sepal.Length | Sepal.Width | Petal.Length | Petal.Width | Species |\n",
       "|---|---|---|---|---|\n",
       "| 5.1    | 3.5    | 1.4    | 0.2    | setosa |\n",
       "| 4.9    | 3.0    | 1.4    | 0.2    | setosa |\n",
       "| 4.7    | 3.2    | 1.3    | 0.2    | setosa |\n",
       "| 4.6    | 3.1    | 1.5    | 0.2    | setosa |\n",
       "| 5.0    | 3.6    | 1.4    | 0.2    | setosa |\n",
       "| 5.4    | 3.9    | 1.7    | 0.4    | setosa |\n",
       "\n"
      ],
      "text/plain": [
       "  Sepal.Length Sepal.Width Petal.Length Petal.Width Species\n",
       "1 5.1          3.5         1.4          0.2         setosa \n",
       "2 4.9          3.0         1.4          0.2         setosa \n",
       "3 4.7          3.2         1.3          0.2         setosa \n",
       "4 4.6          3.1         1.5          0.2         setosa \n",
       "5 5.0          3.6         1.4          0.2         setosa \n",
       "6 5.4          3.9         1.7          0.4         setosa "
      ]
     },
     "metadata": {},
     "output_type": "display_data"
    }
   ],
   "source": [
    "# Chargement et affichage des données\n",
    "data(iris)\n",
    "head(iris)"
   ]
  },
  {
   "cell_type": "code",
   "execution_count": 10,
   "id": "8399b744",
   "metadata": {},
   "outputs": [
    {
     "name": "stdout",
     "output_type": "stream",
     "text": [
      "'data.frame':\t150 obs. of  5 variables:\n",
      " $ Sepal.Length: num  5.1 4.9 4.7 4.6 5 5.4 4.6 5 4.4 4.9 ...\n",
      " $ Sepal.Width : num  3.5 3 3.2 3.1 3.6 3.9 3.4 3.4 2.9 3.1 ...\n",
      " $ Petal.Length: num  1.4 1.4 1.3 1.5 1.4 1.7 1.4 1.5 1.4 1.5 ...\n",
      " $ Petal.Width : num  0.2 0.2 0.2 0.2 0.2 0.4 0.3 0.2 0.2 0.1 ...\n",
      " $ Species     : Factor w/ 3 levels \"setosa\",\"versicolor\",..: 1 1 1 1 1 1 1 1 1 1 ...\n"
     ]
    }
   ],
   "source": [
    "# Exploration des données\n",
    "str(iris)"
   ]
  },
  {
   "cell_type": "code",
   "execution_count": 14,
   "id": "ab55f6cb",
   "metadata": {},
   "outputs": [
    {
     "data": {
      "image/png": "[encoded data removed]",
      "text/plain": [
       "plot without title"
      ]
     },
     "metadata": {},
     "output_type": "display_data"
    }
   ],
   "source": [
    "# Construction de modèle pour la classification des données d'iris en 3 class: Setosa, Versicolor, Virginica\n",
    "model <- rpart(formula = Species ~., data = iris, method = \"class\", parms = list(split = \"gini\"))\n",
    "par(xpd = NA) # Évitez de couper le texte dans certains dispositifs\n",
    "plot(model)\n",
    "text(model, digits = 3)"
   ]
  },
  {
   "cell_type": "markdown",
   "id": "d95a7a38",
   "metadata": {},
   "source": [
    "la division supérieure attribue les observations ayant Petal.length < 2.45 à la branche gauche, où les espèces prédites sont setosa."
   ]
  },
  {
   "cell_type": "code",
   "execution_count": 9,
   "id": "5e317977",
   "metadata": {},
   "outputs": [
    {
     "name": "stdout",
     "output_type": "stream",
     "text": [
      "n= 150 \n",
      "\n",
      "node), split, n, loss, yval, (yprob)\n",
      "      * denotes terminal node\n",
      "\n",
      "1) root 150 100 setosa (0.333 0.333 0.333)  \n",
      "  2) Petal.Length< 2.5 50   0 setosa (1.000 0.000 0.000) *\n",
      "  3) Petal.Length>=2.5 100  50 versicolor (0.000 0.500 0.500)  \n",
      "    6) Petal.Width< 1.8 54   5 versicolor (0.000 0.907 0.093) *\n",
      "    7) Petal.Width>=1.8 46   1 virginica (0.000 0.022 0.978) *\n"
     ]
    }
   ],
   "source": [
    "# Affichage de l'arbre résultante\n",
    "print(model, digits = 2)"
   ]
  },
  {
   "cell_type": "markdown",
   "id": "3f40e218",
   "metadata": {},
   "source": [
    "+ L'arbre résultant est composé de nœuds de décision, de branches et de nœuds feuilles. L'arbre est placé de haut en bas, de sorte que la racine se trouve en haut et les feuilles indiquant le résultat sont placées en bas.\n",
    "\n",
    "+ Chaque nœud de décision correspond à une seule variable prédictive d'entrée et à un seuil de séparation sur cette variable. Les nœuds feuilles de l'arbre sont la variable de résultat qui est utilisée pour faire des prédictions.\n",
    "\n",
    "+ L'arbre croît à partir du sommet (racine), à chaque nœud l'algorithme décide de la meilleure coupure de division qui résulte en la plus grande pureté (ou homogénéité) dans chaque sous-partition.\n",
    "\n",
    "+ La croissance de l'arbre s'arrête lorsque les trois critères suivants sont remplis (Zhang 2016):\n",
    "1. tous les nœuds feuilles sont purs avec une seule classe\n",
    "2. un nombre minimum pré-spécifié d'observations de d'entrainement qui ne peuvent pas être assignées à chaque nœud feuille avec n'importe quelle méthode de fractionnement\n",
    "3. Le nombre d'observations dans le nœud feuille atteint le minimum pré-spécifié.\n",
    "+ Un arbre entièrement développé surajustera les données d'apprentissage et le modèle résultant pourrait ne pas être performant pour prédire le résultat de nouvelles données de test. Des techniques, telles que l'élagage, sont utilisées pour contrôler ce problème.\n",
    "\n",
    "+ Choix des points de séparation des arbres\n",
    "Dans le cadre de la classification, le point de séparation est défini de manière à ce que la population des sous-partitions soit aussi pure que possible. Deux mesures de pureté sont généralement utilisées, notamment l'indice de Gini et l'entropie (ou gain d'information).\n",
    "Pour une sous-partition donnée, Gini = somme(p(1-p)) et entropie = -1*somme(p*log(p)), où p est la proportion d'observations mal classées au sein de la sous-partition. \n",
    "\n",
    "+ La somme est calculée sur les différentes catégories ou classes de la variable de résultat. L'indice de Gini et l'entropie varient de 0 (pureté maximale) à 1 (degré d'impureté maximal).\n"
   ]
  },
  {
   "cell_type": "markdown",
   "id": "9dbfa08f",
   "metadata": {},
   "source": [
    "### **2ème Example avec le jeux de données PimaIndiansDiabetes2**"
   ]
  },
  {
   "cell_type": "markdown",
   "id": "9dcdb8f3",
   "metadata": {},
   "source": [
    "**Informations sur les attributs de jeux de données**\n",
    "+ pregnant: Nombre de grossesses\n",
    "+ glucose: Concentration de glucose dans le plasma (test de tolérance au glucose)\n",
    "+ pressure: Pression sanguine diastolique (mm Hg)\n",
    "+ triceps: Épaisseur du pli cutané du triceps (mm)\n",
    "+ insulin: Insuline sérique à 2 heures (mu U/ml)\n",
    "+ mass: Indice de masse corporelle (poids en kg/(taille en m)\\^2)\n",
    "+ pedigree: Fonction de pedigree du diabète\n",
    "+ age: âge en années\n",
    "+ diabetes: Variable de classe (test de dépistage du diabète)\n",
    "\n"
   ]
  },
  {
   "cell_type": "code",
   "execution_count": 6,
   "id": "54b89b48",
   "metadata": {},
   "outputs": [],
   "source": [
    "# Charger les données et supprimer les NAs\n",
    "data(\"PimaIndiansDiabetes2\", package = \"mlbench\")\n",
    "PimaIndiansDiabetes2 <- na.omit(PimaIndiansDiabetes2)"
   ]
  },
  {
   "cell_type": "code",
   "execution_count": 7,
   "id": "e5a481e6",
   "metadata": {},
   "outputs": [
    {
     "data": {
      "text/html": [
       "<table>\n",
       "<thead><tr><th></th><th scope=col>pregnant</th><th scope=col>glucose</th><th scope=col>pressure</th><th scope=col>triceps</th><th scope=col>insulin</th><th scope=col>mass</th><th scope=col>pedigree</th><th scope=col>age</th><th scope=col>diabetes</th></tr></thead>\n",
       "<tbody>\n",
       "\t<tr><th scope=row>4</th><td>1    </td><td> 89  </td><td>66   </td><td>23   </td><td> 94  </td><td>28.1 </td><td>0.167</td><td>21   </td><td>neg  </td></tr>\n",
       "\t<tr><th scope=row>5</th><td>0    </td><td>137  </td><td>40   </td><td>35   </td><td>168  </td><td>43.1 </td><td>2.288</td><td>33   </td><td>pos  </td></tr>\n",
       "\t<tr><th scope=row>7</th><td>3    </td><td> 78  </td><td>50   </td><td>32   </td><td> 88  </td><td>31.0 </td><td>0.248</td><td>26   </td><td>pos  </td></tr>\n",
       "\t<tr><th scope=row>9</th><td>2    </td><td>197  </td><td>70   </td><td>45   </td><td>543  </td><td>30.5 </td><td>0.158</td><td>53   </td><td>pos  </td></tr>\n",
       "\t<tr><th scope=row>14</th><td>1    </td><td>189  </td><td>60   </td><td>23   </td><td>846  </td><td>30.1 </td><td>0.398</td><td>59   </td><td>pos  </td></tr>\n",
       "\t<tr><th scope=row>15</th><td>5    </td><td>166  </td><td>72   </td><td>19   </td><td>175  </td><td>25.8 </td><td>0.587</td><td>51   </td><td>pos  </td></tr>\n",
       "</tbody>\n",
       "</table>\n"
      ],
      "text/latex": [
       "\\begin{tabular}{r|lllllllll}\n",
       "  & pregnant & glucose & pressure & triceps & insulin & mass & pedigree & age & diabetes\\\\\n",
       "\\hline\n",
       "\t4 & 1     &  89   & 66    & 23    &  94   & 28.1  & 0.167 & 21    & neg  \\\\\n",
       "\t5 & 0     & 137   & 40    & 35    & 168   & 43.1  & 2.288 & 33    & pos  \\\\\n",
       "\t7 & 3     &  78   & 50    & 32    &  88   & 31.0  & 0.248 & 26    & pos  \\\\\n",
       "\t9 & 2     & 197   & 70    & 45    & 543   & 30.5  & 0.158 & 53    & pos  \\\\\n",
       "\t14 & 1     & 189   & 60    & 23    & 846   & 30.1  & 0.398 & 59    & pos  \\\\\n",
       "\t15 & 5     & 166   & 72    & 19    & 175   & 25.8  & 0.587 & 51    & pos  \\\\\n",
       "\\end{tabular}\n"
      ],
      "text/markdown": [
       "\n",
       "| <!--/--> | pregnant | glucose | pressure | triceps | insulin | mass | pedigree | age | diabetes |\n",
       "|---|---|---|---|---|---|---|---|---|---|\n",
       "| 4 | 1     |  89   | 66    | 23    |  94   | 28.1  | 0.167 | 21    | neg   |\n",
       "| 5 | 0     | 137   | 40    | 35    | 168   | 43.1  | 2.288 | 33    | pos   |\n",
       "| 7 | 3     |  78   | 50    | 32    |  88   | 31.0  | 0.248 | 26    | pos   |\n",
       "| 9 | 2     | 197   | 70    | 45    | 543   | 30.5  | 0.158 | 53    | pos   |\n",
       "| 14 | 1     | 189   | 60    | 23    | 846   | 30.1  | 0.398 | 59    | pos   |\n",
       "| 15 | 5     | 166   | 72    | 19    | 175   | 25.8  | 0.587 | 51    | pos   |\n",
       "\n"
      ],
      "text/plain": [
       "   pregnant glucose pressure triceps insulin mass pedigree age diabetes\n",
       "4  1         89     66       23       94     28.1 0.167    21  neg     \n",
       "5  0        137     40       35      168     43.1 2.288    33  pos     \n",
       "7  3         78     50       32       88     31.0 0.248    26  pos     \n",
       "9  2        197     70       45      543     30.5 0.158    53  pos     \n",
       "14 1        189     60       23      846     30.1 0.398    59  pos     \n",
       "15 5        166     72       19      175     25.8 0.587    51  pos     "
      ]
     },
     "metadata": {},
     "output_type": "display_data"
    }
   ],
   "source": [
    "# Affichage de données\n",
    "head(PimaIndiansDiabetes2)"
   ]
  },
  {
   "cell_type": "code",
   "execution_count": 8,
   "id": "f045bf85",
   "metadata": {},
   "outputs": [
    {
     "name": "stdout",
     "output_type": "stream",
     "text": [
      "'data.frame':\t392 obs. of  9 variables:\n",
      " $ pregnant: num  1 0 3 2 1 5 0 1 1 3 ...\n",
      " $ glucose : num  89 137 78 197 189 166 118 103 115 126 ...\n",
      " $ pressure: num  66 40 50 70 60 72 84 30 70 88 ...\n",
      " $ triceps : num  23 35 32 45 23 19 47 38 30 41 ...\n",
      " $ insulin : num  94 168 88 543 846 175 230 83 96 235 ...\n",
      " $ mass    : num  28.1 43.1 31 30.5 30.1 25.8 45.8 43.3 34.6 39.3 ...\n",
      " $ pedigree: num  0.167 2.288 0.248 0.158 0.398 ...\n",
      " $ age     : num  21 33 26 53 59 51 31 33 32 27 ...\n",
      " $ diabetes: Factor w/ 2 levels \"neg\",\"pos\": 1 2 2 2 2 2 2 1 2 1 ...\n",
      " - attr(*, \"na.action\")= 'omit' Named int  1 2 3 6 8 10 11 12 13 16 ...\n",
      "  ..- attr(*, \"names\")= chr  \"1\" \"2\" \"3\" \"6\" ...\n"
     ]
    }
   ],
   "source": [
    "# Exploration des données\n",
    "str(PimaIndiansDiabetes2)"
   ]
  },
  {
   "cell_type": "code",
   "execution_count": 24,
   "id": "3215e430",
   "metadata": {},
   "outputs": [],
   "source": [
    "# Divisez les données en deux ensembles, l'un pour l'entrainement et l'autre pour le test.\n",
    "set.seed(12345)\n",
    "training.samples <- PimaIndiansDiabetes2$diabetes %>% createDataPartition(p = 0.8, list = FALSE)\n",
    "train.data  <- PimaIndiansDiabetes2[training.samples, ]\n",
    "test.data <- PimaIndiansDiabetes2[-training.samples, ]"
   ]
  },
  {
   "cell_type": "code",
   "execution_count": 26,
   "id": "3ad7a7f0",
   "metadata": {},
   "outputs": [],
   "source": [
    "# Construire le modèle\n",
    "set.seed(123)\n",
    "model1 <- rpart(formula = diabetes ~., data = train.data,  method = \"class\", parms = list(split = \"gini\"))"
   ]
  },
  {
   "cell_type": "code",
   "execution_count": 27,
   "id": "e7a72dcb",
   "metadata": {},
   "outputs": [
    {
     "data": {
      "image/png": "[encoded data removed]",
      "text/plain": [
       "plot without title"
      ]
     },
     "metadata": {},
     "output_type": "display_data"
    }
   ],
   "source": [
    "# Tracer les arbres\n",
    "par(xpd = NA) # Évitez de couper le texte dans certains dispositifs\n",
    "plot(model1)\n",
    "text(model1, digits = 3)"
   ]
  },
  {
   "cell_type": "code",
   "execution_count": 28,
   "id": "29bb0743",
   "metadata": {},
   "outputs": [
    {
     "data": {
      "text/html": [
       "<dl class=dl-horizontal>\n",
       "\t<dt>5</dt>\n",
       "\t\t<dd>pos</dd>\n",
       "\t<dt>9</dt>\n",
       "\t\t<dd>pos</dd>\n",
       "\t<dt>33</dt>\n",
       "\t\t<dd>neg</dd>\n",
       "\t<dt>44</dt>\n",
       "\t\t<dd>pos</dd>\n",
       "\t<dt>54</dt>\n",
       "\t\t<dd>pos</dd>\n",
       "\t<dt>70</dt>\n",
       "\t\t<dd>neg</dd>\n",
       "</dl>\n",
       "\n",
       "<details>\n",
       "\t<summary style=display:list-item;cursor:pointer>\n",
       "\t\t<strong>Levels</strong>:\n",
       "\t</summary>\n",
       "\t<ol class=list-inline>\n",
       "\t\t<li>'neg'</li>\n",
       "\t\t<li>'pos'</li>\n",
       "\t</ol>\n",
       "</details>"
      ],
      "text/latex": [
       "\\begin{description*}\n",
       "\\item[5] pos\n",
       "\\item[9] pos\n",
       "\\item[33] neg\n",
       "\\item[44] pos\n",
       "\\item[54] pos\n",
       "\\item[70] neg\n",
       "\\end{description*}\n",
       "\n",
       "\\emph{Levels}: \\begin{enumerate*}\n",
       "\\item 'neg'\n",
       "\\item 'pos'\n",
       "\\end{enumerate*}\n"
      ],
      "text/markdown": [
       "5\n",
       ":   pos9\n",
       ":   pos33\n",
       ":   neg44\n",
       ":   pos54\n",
       ":   pos70\n",
       ":   neg\n",
       "\n",
       "\n",
       "**Levels**: 1. 'neg'\n",
       "2. 'pos'\n",
       "\n",
       "\n"
      ],
      "text/plain": [
       "  5   9  33  44  54  70 \n",
       "pos pos neg pos pos neg \n",
       "Levels: neg pos"
      ]
     },
     "metadata": {},
     "output_type": "display_data"
    },
    {
     "data": {
      "image/png": "[encoded data removed]",
      "text/plain": [
       "plot without title"
      ]
     },
     "metadata": {},
     "output_type": "display_data"
    }
   ],
   "source": [
    "# Faire des prédictions sur les données du test\n",
    "predicted.classes <- model1 %>% predict(test.data, type = \"class\")\n",
    "head(predicted.classes)\n",
    "plot(predicted.classes)"
   ]
  },
  {
   "cell_type": "code",
   "execution_count": 29,
   "id": "a0f4c3c9",
   "metadata": {},
   "outputs": [
    {
     "data": {
      "text/html": [
       "0.743589743589744"
      ],
      "text/latex": [
       "0.743589743589744"
      ],
      "text/markdown": [
       "0.743589743589744"
      ],
      "text/plain": [
       "[1] 0.7435897"
      ]
     },
     "metadata": {},
     "output_type": "display_data"
    }
   ],
   "source": [
    "# Calculer le taux de précision du modèle sur les données de test\n",
    "mean(predicted.classes == test.data$diabetes)"
   ]
  },
  {
   "cell_type": "markdown",
   "id": "6cbcb66e",
   "metadata": {},
   "source": [
    "La précision globale de notre modèle d'arbre est de 74 %, ce qui n'est pas si mal.\n",
    "Cet arbre complet incluant tous les prédicteurs semble très complexe et peut être difficile à interpréter dans le cas où vous disposez d'un grand ensemble de données avec plusieurs prédicteurs.\n",
    "En outre, il est facile de voir qu'un arbre complet surajustera les données d'apprentissage et pourrait conduire à une mauvaise performance de l'ensemble de test.\n",
    "Une stratégie pour limiter cet excès d'adaptation consiste à élaguer l'arbre, ce qui permet d'obtenir un arbre plus simple avec moins de divisions et une meilleure interprétation, au prix d'un léger biais (James et al. 2014, P. Bruce et Bruce (2017))."
   ]
  },
  {
   "cell_type": "markdown",
   "id": "3d60319e",
   "metadata": {},
   "source": [
    "### Élagage de l'arbre"
   ]
  },
  {
   "cell_type": "markdown",
   "id": "47222b20",
   "metadata": {},
   "source": [
    "En bref, notre objectif ici est de voir si un sous-arbre plus petit peut nous donner des résultats comparables à ceux de l'arbre complet. Si c'est le cas, nous devrions opter pour l'arbre le plus simple, car il réduit la probabilité de surajustement.\n",
    "\n",
    "Une stratégie robuste possible pour élaguer l'arbre (ou arrêter la croissance de l'arbre) consiste à éviter de diviser une partition si la division n'améliore pas de manière significative la qualité globale du modèle.\n",
    "\n",
    "Dans le package rpart, ceci est contrôlé par le paramètre de complexité (cp), qui impose une pénalité à l'arbre pour avoir deux nombreux fractionnements. La valeur par défaut est de 0,01. Plus le cp est élevé, plus l'arbre est petit.\n",
    "\n",
    "Une valeur trop faible de cp conduit à un surajustement et une valeur trop élevée de cp se traduira par un arbre trop petit. Les deux cas diminuent la performance prédictive du modèle.\n",
    "\n",
    "Une valeur cp optimale peut être estimée en testant différentes valeurs cp et en utilisant des approches de validation croisée pour déterminer la précision de prédiction correspondante du modèle. Le meilleur cp est alors défini comme celui qui maximise la précision de la validation croisée.\n",
    "\n",
    "L'élagage peut être facilement effectué avec le package caret, qui invoque la méthode rpart pour tester automatiquement différentes valeurs possibles de cp, puis choisit le cp optimal qui maximise la précision de la validation croisée (\"cv\"), et ajuste le meilleur modèle CART final qui explique le mieux nos données.\n",
    "Vous pouvez utiliser les arguments suivants dans la fonction train() :\n",
    "+ trControl, pour configurer la validation croisée 10 fois\n",
    "+ tuneLength, pour spécifier le nombre de valeurs cp possibles à évaluer. La valeur par défaut est 3, ici nous utiliserons 10."
   ]
  },
  {
   "cell_type": "code",
   "execution_count": 30,
   "id": "dac01d1f",
   "metadata": {},
   "outputs": [],
   "source": [
    "# Ajuster le modèle sur l'ensemble de données d'entrainement\n",
    "set.seed(123)\n",
    "model2 <- train(\n",
    "  formula = diabetes ~., data = train.data, method = \"rpart\",\n",
    "  trControl = trainControl(\"cv\", number = 10),\n",
    "  tuneLength = 10)"
   ]
  },
  {
   "cell_type": "code",
   "execution_count": 31,
   "id": "93a757d3",
   "metadata": {},
   "outputs": [
    {
     "data": {
      "image/png": "[encoded data removed]",
      "text/plain": [
       "plot without title"
      ]
     },
     "metadata": {},
     "output_type": "display_data"
    }
   ],
   "source": [
    "# Tracez la précision du modèle en fonction de différentes valeurs de cp (paramètre de complexité).\n",
    "plot(model2)"
   ]
  },
  {
   "cell_type": "code",
   "execution_count": 32,
   "id": "1bf608e0",
   "metadata": {},
   "outputs": [
    {
     "data": {
      "text/html": [
       "<table>\n",
       "<thead><tr><th></th><th scope=col>cp</th></tr></thead>\n",
       "<tbody>\n",
       "\t<tr><th scope=row>4</th><td>0.08653846</td></tr>\n",
       "</tbody>\n",
       "</table>\n"
      ],
      "text/latex": [
       "\\begin{tabular}{r|l}\n",
       "  & cp\\\\\n",
       "\\hline\n",
       "\t4 & 0.08653846\\\\\n",
       "\\end{tabular}\n"
      ],
      "text/markdown": [
       "\n",
       "| <!--/--> | cp |\n",
       "|---|---|\n",
       "| 4 | 0.08653846 |\n",
       "\n"
      ],
      "text/plain": [
       "  cp        \n",
       "4 0.08653846"
      ]
     },
     "metadata": {},
     "output_type": "display_data"
    }
   ],
   "source": [
    "# Le meilleur paramètre de réglage cp qui maximise la précision du modèle\n",
    "model2$bestTune"
   ]
  },
  {
   "cell_type": "code",
   "execution_count": 33,
   "id": "9c5eb86c",
   "metadata": {},
   "outputs": [
    {
     "data": {
      "image/png": "[encoded data removed]",
      "text/plain": [
       "plot without title"
      ]
     },
     "metadata": {},
     "output_type": "display_data"
    }
   ],
   "source": [
    "# Traçer le modèle finale\n",
    "par(xpd = NA) # Évitez de couper le texte dans certains dispositifs\n",
    "plot(model2$finalModel)\n",
    "text(model2$finalModel,  digits = 3)"
   ]
  },
  {
   "cell_type": "code",
   "execution_count": 34,
   "id": "3a2902db",
   "metadata": {},
   "outputs": [
    {
     "data": {
      "text/plain": [
       "n= 314 \n",
       "\n",
       "node), split, n, loss, yval, (yprob)\n",
       "      * denotes terminal node\n",
       "\n",
       "1) root 314 104 neg (0.6687898 0.3312102)  \n",
       "  2) glucose< 127.5 197  32 neg (0.8375635 0.1624365) *\n",
       "  3) glucose>=127.5 117  45 pos (0.3846154 0.6153846)  \n",
       "    6) age< 24.5 26   6 neg (0.7692308 0.2307692) *\n",
       "    7) age>=24.5 91  25 pos (0.2747253 0.7252747) *"
      ]
     },
     "metadata": {},
     "output_type": "display_data"
    }
   ],
   "source": [
    "# Decision rules in the model\n",
    "model2$finalModel"
   ]
  },
  {
   "cell_type": "code",
   "execution_count": 35,
   "id": "f9663873",
   "metadata": {},
   "outputs": [
    {
     "data": {
      "text/html": [
       "0.769230769230769"
      ],
      "text/latex": [
       "0.769230769230769"
      ],
      "text/markdown": [
       "0.769230769230769"
      ],
      "text/plain": [
       "[1] 0.7692308"
      ]
     },
     "metadata": {},
     "output_type": "display_data"
    }
   ],
   "source": [
    "# Faire des prédictions sur les données du test\n",
    "predicted.classes <- model2 %>% predict(test.data)\n",
    "# Calculer le taux de précision du modèle sur les données de test\n",
    "mean(predicted.classes == test.data$diabetes)"
   ]
  },
  {
   "cell_type": "markdown",
   "id": "cf58f5fa",
   "metadata": {},
   "source": [
    "D'après les résultats ci-dessus, on constate que la meilleure valeur pour le paramètre de complexité (cp) est 0,086, ce qui permet d'obtenir un arbre plus simple, facile à interpréter, avec une précision globale de 77 %, ce qui est comparable à la précision (74 %) que nous avons obtenue avec l'arbre complet. La précision de prédiction de l'arbre élagué est même meilleure que celle de l'arbre complet. Nous devrions donc opter pour le modèle le plus simple."
   ]
  },
  {
   "cell_type": "markdown",
   "id": "50a2baeb",
   "metadata": {},
   "source": [
    "### **L'arbre de décision pour la régression avec le jeux de données Housing Boston**"
   ]
  },
  {
   "cell_type": "markdown",
   "id": "67f956ee",
   "metadata": {},
   "source": [
    "Ce jeu de données contient des informations recueillies par le service de recensement des États-Unis concernant le logement dans la région de Boston Mass.\n",
    "\n",
    "+ **Informations sur les attributs**\n",
    "+ CRIM - taux de criminalité par habitant par ville\n",
    "+ ZN - proportion de terrains résidentiels zonés pour des lots de plus de 25 000 pieds carrés.\n",
    "+ INDUS - proportion d'acres d'entreprises non commerciales par ville.\n",
    "+ CHAS - Variable muette Charles River (1 si la parcelle borde la rivière, 0 sinon).\n",
    "+ NOX - concentration d'oxydes nitriques (parties par 10 millions).\n",
    "+ RM - nombre moyen de pièces par logement\n",
    "+ AGE - proportion de logements occupés par leur propriétaire construits avant 1940\n",
    "+ DIS - distances pondérées à cinq centres d'emploi de Boston\n",
    "+ RAD - indice d'accessibilité aux autoroutes radiales\n",
    "+ TAX - taux de l'impôt foncier sur la pleine valeur par 10 000 dollar\n",
    "+ PTRATIO - ratio élèves/professeurs par ville\n",
    "+ B - 1000(Bk - 0,63)^2 où Bk est la proportion de Noirs par ville\n",
    "+ LSTAT - % de statut inférieur de la population\n",
    "+ MEDV - Valeur médiane des maisons occupées par leur propriétaire, en milliers de $."
   ]
  },
  {
   "cell_type": "code",
   "execution_count": 4,
   "id": "f0c27702",
   "metadata": {},
   "outputs": [
    {
     "data": {
      "text/html": [
       "<table>\n",
       "<thead><tr><th scope=col>crim</th><th scope=col>zn</th><th scope=col>indus</th><th scope=col>chas</th><th scope=col>nox</th><th scope=col>rm</th><th scope=col>age</th><th scope=col>dis</th><th scope=col>rad</th><th scope=col>tax</th><th scope=col>ptratio</th><th scope=col>black</th><th scope=col>lstat</th><th scope=col>medv</th></tr></thead>\n",
       "<tbody>\n",
       "\t<tr><td>0.00632</td><td>18     </td><td>2.31   </td><td>0      </td><td>0.538  </td><td>6.575  </td><td>65.2   </td><td>4.0900 </td><td>1      </td><td>296    </td><td>15.3   </td><td>396.90 </td><td>4.98   </td><td>24.0   </td></tr>\n",
       "\t<tr><td>0.02731</td><td> 0     </td><td>7.07   </td><td>0      </td><td>0.469  </td><td>6.421  </td><td>78.9   </td><td>4.9671 </td><td>2      </td><td>242    </td><td>17.8   </td><td>396.90 </td><td>9.14   </td><td>21.6   </td></tr>\n",
       "\t<tr><td>0.02729</td><td> 0     </td><td>7.07   </td><td>0      </td><td>0.469  </td><td>7.185  </td><td>61.1   </td><td>4.9671 </td><td>2      </td><td>242    </td><td>17.8   </td><td>392.83 </td><td>4.03   </td><td>34.7   </td></tr>\n",
       "\t<tr><td>0.03237</td><td> 0     </td><td>2.18   </td><td>0      </td><td>0.458  </td><td>6.998  </td><td>45.8   </td><td>6.0622 </td><td>3      </td><td>222    </td><td>18.7   </td><td>394.63 </td><td>2.94   </td><td>33.4   </td></tr>\n",
       "\t<tr><td>0.06905</td><td> 0     </td><td>2.18   </td><td>0      </td><td>0.458  </td><td>7.147  </td><td>54.2   </td><td>6.0622 </td><td>3      </td><td>222    </td><td>18.7   </td><td>396.90 </td><td>5.33   </td><td>36.2   </td></tr>\n",
       "\t<tr><td>0.02985</td><td> 0     </td><td>2.18   </td><td>0      </td><td>0.458  </td><td>6.430  </td><td>58.7   </td><td>6.0622 </td><td>3      </td><td>222    </td><td>18.7   </td><td>394.12 </td><td>5.21   </td><td>28.7   </td></tr>\n",
       "</tbody>\n",
       "</table>\n"
      ],
      "text/latex": [
       "\\begin{tabular}{r|llllllllllllll}\n",
       " crim & zn & indus & chas & nox & rm & age & dis & rad & tax & ptratio & black & lstat & medv\\\\\n",
       "\\hline\n",
       "\t 0.00632 & 18      & 2.31    & 0       & 0.538   & 6.575   & 65.2    & 4.0900  & 1       & 296     & 15.3    & 396.90  & 4.98    & 24.0   \\\\\n",
       "\t 0.02731 &  0      & 7.07    & 0       & 0.469   & 6.421   & 78.9    & 4.9671  & 2       & 242     & 17.8    & 396.90  & 9.14    & 21.6   \\\\\n",
       "\t 0.02729 &  0      & 7.07    & 0       & 0.469   & 7.185   & 61.1    & 4.9671  & 2       & 242     & 17.8    & 392.83  & 4.03    & 34.7   \\\\\n",
       "\t 0.03237 &  0      & 2.18    & 0       & 0.458   & 6.998   & 45.8    & 6.0622  & 3       & 222     & 18.7    & 394.63  & 2.94    & 33.4   \\\\\n",
       "\t 0.06905 &  0      & 2.18    & 0       & 0.458   & 7.147   & 54.2    & 6.0622  & 3       & 222     & 18.7    & 396.90  & 5.33    & 36.2   \\\\\n",
       "\t 0.02985 &  0      & 2.18    & 0       & 0.458   & 6.430   & 58.7    & 6.0622  & 3       & 222     & 18.7    & 394.12  & 5.21    & 28.7   \\\\\n",
       "\\end{tabular}\n"
      ],
      "text/markdown": [
       "\n",
       "| crim | zn | indus | chas | nox | rm | age | dis | rad | tax | ptratio | black | lstat | medv |\n",
       "|---|---|---|---|---|---|---|---|---|---|---|---|---|---|\n",
       "| 0.00632 | 18      | 2.31    | 0       | 0.538   | 6.575   | 65.2    | 4.0900  | 1       | 296     | 15.3    | 396.90  | 4.98    | 24.0    |\n",
       "| 0.02731 |  0      | 7.07    | 0       | 0.469   | 6.421   | 78.9    | 4.9671  | 2       | 242     | 17.8    | 396.90  | 9.14    | 21.6    |\n",
       "| 0.02729 |  0      | 7.07    | 0       | 0.469   | 7.185   | 61.1    | 4.9671  | 2       | 242     | 17.8    | 392.83  | 4.03    | 34.7    |\n",
       "| 0.03237 |  0      | 2.18    | 0       | 0.458   | 6.998   | 45.8    | 6.0622  | 3       | 222     | 18.7    | 394.63  | 2.94    | 33.4    |\n",
       "| 0.06905 |  0      | 2.18    | 0       | 0.458   | 7.147   | 54.2    | 6.0622  | 3       | 222     | 18.7    | 396.90  | 5.33    | 36.2    |\n",
       "| 0.02985 |  0      | 2.18    | 0       | 0.458   | 6.430   | 58.7    | 6.0622  | 3       | 222     | 18.7    | 394.12  | 5.21    | 28.7    |\n",
       "\n"
      ],
      "text/plain": [
       "  crim    zn indus chas nox   rm    age  dis    rad tax ptratio black  lstat\n",
       "1 0.00632 18 2.31  0    0.538 6.575 65.2 4.0900 1   296 15.3    396.90 4.98 \n",
       "2 0.02731  0 7.07  0    0.469 6.421 78.9 4.9671 2   242 17.8    396.90 9.14 \n",
       "3 0.02729  0 7.07  0    0.469 7.185 61.1 4.9671 2   242 17.8    392.83 4.03 \n",
       "4 0.03237  0 2.18  0    0.458 6.998 45.8 6.0622 3   222 18.7    394.63 2.94 \n",
       "5 0.06905  0 2.18  0    0.458 7.147 54.2 6.0622 3   222 18.7    396.90 5.33 \n",
       "6 0.02985  0 2.18  0    0.458 6.430 58.7 6.0622 3   222 18.7    394.12 5.21 \n",
       "  medv\n",
       "1 24.0\n",
       "2 21.6\n",
       "3 34.7\n",
       "4 33.4\n",
       "5 36.2\n",
       "6 28.7"
      ]
     },
     "metadata": {},
     "output_type": "display_data"
    }
   ],
   "source": [
    "# Chargement des données\n",
    "data(\"Boston\", package = \"MASS\")\n",
    "head(Boston)"
   ]
  },
  {
   "cell_type": "code",
   "execution_count": 5,
   "id": "426c3ab0",
   "metadata": {},
   "outputs": [
    {
     "name": "stdout",
     "output_type": "stream",
     "text": [
      "'data.frame':\t506 obs. of  14 variables:\n",
      " $ crim   : num  0.00632 0.02731 0.02729 0.03237 0.06905 ...\n",
      " $ zn     : num  18 0 0 0 0 0 12.5 12.5 12.5 12.5 ...\n",
      " $ indus  : num  2.31 7.07 7.07 2.18 2.18 2.18 7.87 7.87 7.87 7.87 ...\n",
      " $ chas   : int  0 0 0 0 0 0 0 0 0 0 ...\n",
      " $ nox    : num  0.538 0.469 0.469 0.458 0.458 0.458 0.524 0.524 0.524 0.524 ...\n",
      " $ rm     : num  6.58 6.42 7.18 7 7.15 ...\n",
      " $ age    : num  65.2 78.9 61.1 45.8 54.2 58.7 66.6 96.1 100 85.9 ...\n",
      " $ dis    : num  4.09 4.97 4.97 6.06 6.06 ...\n",
      " $ rad    : int  1 2 2 3 3 3 5 5 5 5 ...\n",
      " $ tax    : num  296 242 242 222 222 222 311 311 311 311 ...\n",
      " $ ptratio: num  15.3 17.8 17.8 18.7 18.7 18.7 15.2 15.2 15.2 15.2 ...\n",
      " $ black  : num  397 397 393 395 397 ...\n",
      " $ lstat  : num  4.98 9.14 4.03 2.94 5.33 ...\n",
      " $ medv   : num  24 21.6 34.7 33.4 36.2 28.7 22.9 27.1 16.5 18.9 ...\n"
     ]
    }
   ],
   "source": [
    "#Exploration des données\n",
    "str(Boston)"
   ]
  },
  {
   "cell_type": "code",
   "execution_count": 37,
   "id": "bce6cdcb",
   "metadata": {},
   "outputs": [],
   "source": [
    "# Divisez les données en deux ensembles, l'un pour la entrainement et l'autre pour le test.\n",
    "set.seed(123)\n",
    "training.samples <- Boston$medv %>% createDataPartition(p = 0.8, list = FALSE)\n",
    "train.data  <- Boston[training.samples, ]\n",
    "test.data <- Boston[-training.samples, ]"
   ]
  },
  {
   "cell_type": "markdown",
   "id": "7deb5eb9",
   "metadata": {},
   "source": [
    "Ici, la meilleure valeur cp est celle qui minimise l'erreur de prédiction RMSE (root mean squared error).\n",
    "La RMSE est calculée comme suit : RMSE = mean((observés - predictés)^2) %>% sqrt(). Plus la RMSE est faible, meilleur est le modèle."
   ]
  },
  {
   "cell_type": "code",
   "execution_count": 38,
   "id": "aef0338d",
   "metadata": {},
   "outputs": [
    {
     "name": "stderr",
     "output_type": "stream",
     "text": [
      "Warning message in nominalTrainWorkflow(x = x, y = y, wts = weights, info = trainInfo, :\n",
      "“There were missing values in resampled performance measures.”"
     ]
    }
   ],
   "source": [
    "# Ajuster le modèle sur l'ensemble d'entraînement\n",
    "set.seed(123)\n",
    "model <- train(\n",
    "  medv ~., data = train.data, method = \"rpart\",\n",
    "  trControl = trainControl(\"cv\", number = 10),\n",
    "  tuneLength = 10\n",
    ")"
   ]
  },
  {
   "cell_type": "code",
   "execution_count": 39,
   "id": "5f52aea0",
   "metadata": {},
   "outputs": [
    {
     "data": {
      "image/png": "[encoded data removed]",
      "text/plain": [
       "plot without title"
      ]
     },
     "metadata": {},
     "output_type": "display_data"
    }
   ],
   "source": [
    "# Tracer l'erreur du modèle en fonction de différentes valeurs de cp (paramètre de complexité)\n",
    "plot(model)"
   ]
  },
  {
   "cell_type": "code",
   "execution_count": 40,
   "id": "cbba1be2",
   "metadata": {},
   "outputs": [
    {
     "data": {
      "text/html": [
       "<table>\n",
       "<thead><tr><th></th><th scope=col>cp</th></tr></thead>\n",
       "<tbody>\n",
       "\t<tr><th scope=row>4</th><td>0.015327</td></tr>\n",
       "</tbody>\n",
       "</table>\n"
      ],
      "text/latex": [
       "\\begin{tabular}{r|l}\n",
       "  & cp\\\\\n",
       "\\hline\n",
       "\t4 & 0.015327\\\\\n",
       "\\end{tabular}\n"
      ],
      "text/markdown": [
       "\n",
       "| <!--/--> | cp |\n",
       "|---|---|\n",
       "| 4 | 0.015327 |\n",
       "\n"
      ],
      "text/plain": [
       "  cp      \n",
       "4 0.015327"
      ]
     },
     "metadata": {},
     "output_type": "display_data"
    }
   ],
   "source": [
    "# Afficher le meilleur paramètre de réglage cp qui\n",
    "# minimiser RMSE\n",
    "model$bestTune"
   ]
  },
  {
   "cell_type": "code",
   "execution_count": 41,
   "id": "0cb36f94",
   "metadata": {},
   "outputs": [
    {
     "data": {
      "image/png": "[encoded data removed]",
      "text/plain": [
       "plot without title"
      ]
     },
     "metadata": {},
     "output_type": "display_data"
    }
   ],
   "source": [
    "# Tracez le modèle d'arbre final\n",
    "par(xpd = NA) # Évitez de couper le texte dans certains dispositifs\n",
    "plot(model$finalModel)\n",
    "text(model$finalModel, digits = 3)"
   ]
  },
  {
   "cell_type": "code",
   "execution_count": 42,
   "id": "09741460",
   "metadata": {},
   "outputs": [
    {
     "data": {
      "text/plain": [
       "n= 407 \n",
       "\n",
       "node), split, n, deviance, yval\n",
       "      * denotes terminal node\n",
       "\n",
       " 1) root 407 34125.5800 22.51057  \n",
       "   2) rm< 6.8375 334 12681.2200 19.62695  \n",
       "     4) lstat>=14.4 146  2607.9150 15.05822  \n",
       "       8) crim>=7.006285 60   659.0840 11.86000 *\n",
       "       9) crim< 7.006285 86   906.9406 17.28953 *\n",
       "     5) lstat< 14.4 188  4659.1330 23.17500  \n",
       "      10) lstat>=5.51 167  2966.0360 22.35329 *\n",
       "      11) lstat< 5.51 21   683.6381 29.70952 *\n",
       "   3) rm>=6.8375 73  5959.9890 35.70411  \n",
       "     6) rm< 7.443 49  2037.2070 31.28367  \n",
       "      12) lstat>=9.76 8   440.5750 23.02500 *\n",
       "      13) lstat< 9.76 41   944.5190 32.89512 *\n",
       "     7) rm>=7.443 24  1010.4700 44.72917 *"
      ]
     },
     "metadata": {},
     "output_type": "display_data"
    }
   ],
   "source": [
    "# Règles de décision dans le modèle\n",
    "model$finalModel"
   ]
  },
  {
   "cell_type": "code",
   "execution_count": 43,
   "id": "63052fa7",
   "metadata": {},
   "outputs": [
    {
     "data": {
      "text/html": [
       "<dl class=dl-horizontal>\n",
       "\t<dt>3</dt>\n",
       "\t\t<dd>32.8951219512195</dd>\n",
       "\t<dt>6</dt>\n",
       "\t\t<dd>29.7095238095238</dd>\n",
       "\t<dt>9</dt>\n",
       "\t\t<dd>17.2895348837209</dd>\n",
       "\t<dt>11</dt>\n",
       "\t\t<dd>17.2895348837209</dd>\n",
       "\t<dt>14</dt>\n",
       "\t\t<dd>22.3532934131736</dd>\n",
       "\t<dt>15</dt>\n",
       "\t\t<dd>22.3532934131736</dd>\n",
       "</dl>\n"
      ],
      "text/latex": [
       "\\begin{description*}\n",
       "\\item[3] 32.8951219512195\n",
       "\\item[6] 29.7095238095238\n",
       "\\item[9] 17.2895348837209\n",
       "\\item[11] 17.2895348837209\n",
       "\\item[14] 22.3532934131736\n",
       "\\item[15] 22.3532934131736\n",
       "\\end{description*}\n"
      ],
      "text/markdown": [
       "3\n",
       ":   32.89512195121956\n",
       ":   29.70952380952389\n",
       ":   17.289534883720911\n",
       ":   17.289534883720914\n",
       ":   22.353293413173615\n",
       ":   22.3532934131736\n",
       "\n"
      ],
      "text/plain": [
       "       3        6        9       11       14       15 \n",
       "32.89512 29.70952 17.28953 17.28953 22.35329 22.35329 "
      ]
     },
     "metadata": {},
     "output_type": "display_data"
    },
    {
     "data": {
      "text/html": [
       "4.48421332371134"
      ],
      "text/latex": [
       "4.48421332371134"
      ],
      "text/markdown": [
       "4.48421332371134"
      ],
      "text/plain": [
       "[1] 4.484213"
      ]
     },
     "metadata": {},
     "output_type": "display_data"
    }
   ],
   "source": [
    "# Faire des prédictions sur les données du test\n",
    "predictions <- model %>% predict(test.data)\n",
    "head(predictions)\n",
    "# Calculer le taux de précision du modèle sur les données de test\n",
    "RMSE(predictions, test.data$medv)"
   ]
  },
  {
   "cell_type": "code",
   "execution_count": null,
   "id": "0a90f052",
   "metadata": {},
   "outputs": [],
   "source": []
  }
 ],
 "metadata": {
  "kernelspec": {
   "display_name": "R",
   "language": "R",
   "name": "ir"
  },
  "language_info": {
   "codemirror_mode": "r",
   "file_extension": ".r",
   "mimetype": "text/x-r-source",
   "name": "R",
   "pygments_lexer": "r",
   "version": "3.6.1"
  }
 },
 "nbformat": 4,
 "nbformat_minor": 5
}
