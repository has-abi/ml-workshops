{
  "cells": [
    {
      "cell_type": "markdown",
      "id": "00c0e80d",
      "metadata": {
        "id": "00c0e80d"
      },
      "source": [
        "# Application de l'algorithme CAH sur le jeu de données \"mtcars\"."
      ]
    },
    {
      "cell_type": "markdown",
      "id": "2b6264ad",
      "metadata": {
        "id": "2b6264ad"
      },
      "source": [
        "\n",
        "mtcars (test routier de voiture de tendance automobile) comprend la consommation de carburant, les performances et 10 aspects de la conception automobile pour 32 automobiles."
      ]
    },
    {
      "cell_type": "code",
      "execution_count": null,
      "id": "bc5896a0",
      "metadata": {
        "id": "bc5896a0",
        "outputId": "73a16a69-4939-4890-812e-82514497f995"
      },
      "outputs": [
        {
          "data": {
            "text/html": [
              "<table>\n",
              "<thead><tr><th></th><th scope=col>mpg</th><th scope=col>cyl</th><th scope=col>disp</th><th scope=col>hp</th><th scope=col>drat</th><th scope=col>wt</th><th scope=col>qsec</th><th scope=col>vs</th><th scope=col>am</th><th scope=col>gear</th><th scope=col>carb</th></tr></thead>\n",
              "<tbody>\n",
              "\t<tr><th scope=row>Mazda RX4</th><td>21.0 </td><td>6    </td><td>160  </td><td>110  </td><td>3.90 </td><td>2.620</td><td>16.46</td><td>0    </td><td>1    </td><td>4    </td><td>4    </td></tr>\n",
              "\t<tr><th scope=row>Mazda RX4 Wag</th><td>21.0 </td><td>6    </td><td>160  </td><td>110  </td><td>3.90 </td><td>2.875</td><td>17.02</td><td>0    </td><td>1    </td><td>4    </td><td>4    </td></tr>\n",
              "\t<tr><th scope=row>Datsun 710</th><td>22.8 </td><td>4    </td><td>108  </td><td> 93  </td><td>3.85 </td><td>2.320</td><td>18.61</td><td>1    </td><td>1    </td><td>4    </td><td>1    </td></tr>\n",
              "\t<tr><th scope=row>Hornet 4 Drive</th><td>21.4 </td><td>6    </td><td>258  </td><td>110  </td><td>3.08 </td><td>3.215</td><td>19.44</td><td>1    </td><td>0    </td><td>3    </td><td>1    </td></tr>\n",
              "\t<tr><th scope=row>Hornet Sportabout</th><td>18.7 </td><td>8    </td><td>360  </td><td>175  </td><td>3.15 </td><td>3.440</td><td>17.02</td><td>0    </td><td>0    </td><td>3    </td><td>2    </td></tr>\n",
              "\t<tr><th scope=row>Valiant</th><td>18.1 </td><td>6    </td><td>225  </td><td>105  </td><td>2.76 </td><td>3.460</td><td>20.22</td><td>1    </td><td>0    </td><td>3    </td><td>1    </td></tr>\n",
              "</tbody>\n",
              "</table>\n"
            ],
            "text/latex": [
              "\\begin{tabular}{r|lllllllllll}\n",
              "  & mpg & cyl & disp & hp & drat & wt & qsec & vs & am & gear & carb\\\\\n",
              "\\hline\n",
              "\tMazda RX4 & 21.0  & 6     & 160   & 110   & 3.90  & 2.620 & 16.46 & 0     & 1     & 4     & 4    \\\\\n",
              "\tMazda RX4 Wag & 21.0  & 6     & 160   & 110   & 3.90  & 2.875 & 17.02 & 0     & 1     & 4     & 4    \\\\\n",
              "\tDatsun 710 & 22.8  & 4     & 108   &  93   & 3.85  & 2.320 & 18.61 & 1     & 1     & 4     & 1    \\\\\n",
              "\tHornet 4 Drive & 21.4  & 6     & 258   & 110   & 3.08  & 3.215 & 19.44 & 1     & 0     & 3     & 1    \\\\\n",
              "\tHornet Sportabout & 18.7  & 8     & 360   & 175   & 3.15  & 3.440 & 17.02 & 0     & 0     & 3     & 2    \\\\\n",
              "\tValiant & 18.1  & 6     & 225   & 105   & 2.76  & 3.460 & 20.22 & 1     & 0     & 3     & 1    \\\\\n",
              "\\end{tabular}\n"
            ],
            "text/markdown": [
              "\n",
              "| <!--/--> | mpg | cyl | disp | hp | drat | wt | qsec | vs | am | gear | carb |\n",
              "|---|---|---|---|---|---|---|---|---|---|---|---|\n",
              "| Mazda RX4 | 21.0  | 6     | 160   | 110   | 3.90  | 2.620 | 16.46 | 0     | 1     | 4     | 4     |\n",
              "| Mazda RX4 Wag | 21.0  | 6     | 160   | 110   | 3.90  | 2.875 | 17.02 | 0     | 1     | 4     | 4     |\n",
              "| Datsun 710 | 22.8  | 4     | 108   |  93   | 3.85  | 2.320 | 18.61 | 1     | 1     | 4     | 1     |\n",
              "| Hornet 4 Drive | 21.4  | 6     | 258   | 110   | 3.08  | 3.215 | 19.44 | 1     | 0     | 3     | 1     |\n",
              "| Hornet Sportabout | 18.7  | 8     | 360   | 175   | 3.15  | 3.440 | 17.02 | 0     | 0     | 3     | 2     |\n",
              "| Valiant | 18.1  | 6     | 225   | 105   | 2.76  | 3.460 | 20.22 | 1     | 0     | 3     | 1     |\n",
              "\n"
            ],
            "text/plain": [
              "                  mpg  cyl disp hp  drat wt    qsec  vs am gear carb\n",
              "Mazda RX4         21.0 6   160  110 3.90 2.620 16.46 0  1  4    4   \n",
              "Mazda RX4 Wag     21.0 6   160  110 3.90 2.875 17.02 0  1  4    4   \n",
              "Datsun 710        22.8 4   108   93 3.85 2.320 18.61 1  1  4    1   \n",
              "Hornet 4 Drive    21.4 6   258  110 3.08 3.215 19.44 1  0  3    1   \n",
              "Hornet Sportabout 18.7 8   360  175 3.15 3.440 17.02 0  0  3    2   \n",
              "Valiant           18.1 6   225  105 2.76 3.460 20.22 1  0  3    1   "
            ]
          },
          "metadata": {},
          "output_type": "display_data"
        }
      ],
      "source": [
        "options(warn=0)\n",
        "library(dplyr)\n",
        "head(mtcars)"
      ]
    },
    {
      "cell_type": "code",
      "execution_count": null,
      "id": "280354b9",
      "metadata": {
        "id": "280354b9",
        "outputId": "7f6317e9-4b46-4127-a772-a26caffaff9f"
      },
      "outputs": [
        {
          "name": "stdout",
          "output_type": "stream",
          "text": [
            "'data.frame':\t32 obs. of  11 variables:\n",
            " $ mpg : num  21 21 22.8 21.4 18.7 18.1 14.3 24.4 22.8 19.2 ...\n",
            " $ cyl : num  6 6 4 6 8 6 8 4 4 6 ...\n",
            " $ disp: num  160 160 108 258 360 ...\n",
            " $ hp  : num  110 110 93 110 175 105 245 62 95 123 ...\n",
            " $ drat: num  3.9 3.9 3.85 3.08 3.15 2.76 3.21 3.69 3.92 3.92 ...\n",
            " $ wt  : num  2.62 2.88 2.32 3.21 3.44 ...\n",
            " $ qsec: num  16.5 17 18.6 19.4 17 ...\n",
            " $ vs  : num  0 0 1 1 0 1 0 1 1 1 ...\n",
            " $ am  : num  1 1 1 0 0 0 0 0 0 0 ...\n",
            " $ gear: num  4 4 4 3 3 3 3 4 4 4 ...\n",
            " $ carb: num  4 4 1 1 2 1 4 2 2 4 ...\n"
          ]
        }
      ],
      "source": [
        "str(mtcars)"
      ]
    },
    {
      "cell_type": "markdown",
      "id": "31f55490",
      "metadata": {
        "id": "31f55490"
      },
      "source": [
        "# Calcul de la matrice de distance"
      ]
    },
    {
      "cell_type": "markdown",
      "id": "b9694290",
      "metadata": {
        "id": "b9694290"
      },
      "source": [
        "\n",
        "La matrice de distance peut être calculée à l'aide de la fonction dist(). Cette fonction calcule et renvoie la matrice de distance calculée en utilisant la mesure de distance spécifiée pour calculer les distances entre les lignes d'une matrice de données:c'est le calcul de dissimilarité.\n",
        "nous utilisons la distance euclidienne."
      ]
    },
    {
      "cell_type": "code",
      "execution_count": null,
      "id": "39cdb2cc",
      "metadata": {
        "id": "39cdb2cc",
        "outputId": "4d4ea981-3892-4301-8cbf-defda85d7514"
      },
      "outputs": [
        {
          "data": {
            "text/plain": [
              "                      Mazda RX4 Mazda RX4 Wag  Datsun 710 Hornet 4 Drive\n",
              "Mazda RX4 Wag         0.6153251                                         \n",
              "Datsun 710           54.9086059    54.8915169                           \n",
              "Hornet 4 Drive       98.1125212    98.0958939 150.9935191               \n",
              "Hornet Sportabout   210.3374396   210.3358546 265.0831615    121.0297564\n",
              "Valiant              65.4717710    65.4392224 117.7547018     33.5508692\n",
              "Duster 360          241.4076490   241.4088680 294.4790230    169.4299647\n",
              "Merc 240D            50.1532711    50.1146059  49.6584796    121.2739722\n",
              "Merc 230             25.4683117    25.3284509  33.1803843    118.2433145\n",
              "Merc 280             15.3641921    15.2956865  66.9363534     91.4224033\n",
              "Merc 280C            15.6724727    15.5837744  67.0261397     91.4612914\n",
              "Merc 450SE          135.4307018   135.4254826 189.1954941     72.4964325\n",
              "Merc 450SL          135.4014424   135.3960351 189.1631745     72.4313532\n",
              "Merc 450SLC         135.4794674   135.4723157 189.2345426     72.5718466\n",
              "Cadillac Fleetwood  326.3395903   326.3355070 381.0926242    234.4403876\n",
              "Lincoln Continental 318.0469808   318.0429333 372.8012090    227.9726091\n",
              "Chrysler Imperial   304.7203408   304.7169175 359.3014906    218.1548299\n",
              "Fiat 128             93.2679950    93.2530993  40.9933763    184.9689734\n",
              "Honda Civic         102.8307567   102.8238713  52.7704607    191.5518700\n",
              "Toyota Corolla      100.6040368   100.5887588  47.6535017    192.6714187\n",
              "Toyota Corona        42.3075233    42.2659224  12.9654743    138.5304725\n",
              "Dodge Challenger    163.1150750   163.1134210 217.7795805     72.4403915\n",
              "AMC Javelin         149.6047203   149.6014522 204.3188913     61.3601899\n",
              "Camaro Z28          233.2228758   233.2248748 286.0049209    163.6632641\n",
              "Pontiac Firebird    248.6780270   248.6762035 303.3583889    156.2240346\n",
              "Fiat X1-9            92.5048389    92.4940020  39.8815148    184.4471198\n",
              "Porsche 914-2        44.4033659    44.4073589  13.1357109    139.1579524\n",
              "Lotus Europa         65.7328377    65.7362635  25.0948550    163.2367437\n",
              "Ford Pantera L      245.4247064   245.4293785 297.2940489    180.1140339\n",
              "Ferrari Dino         66.7661029    66.7764167  90.2415509    130.5523007\n",
              "Maserati Bora       265.6454248   265.6491465 309.7718171    229.3419352\n",
              "Volvo 142E           39.1894029    39.1626037  20.6939436    137.0363299\n",
              "                    Hornet Sportabout     Valiant  Duster 360   Merc 240D\n",
              "Mazda RX4 Wag                                                            \n",
              "Datsun 710                                                               \n",
              "Hornet 4 Drive                                                           \n",
              "Hornet Sportabout                                                        \n",
              "Valiant                   152.1241352                                    \n",
              "Duster 360                 70.1767262 194.6094525                        \n",
              "Merc 240D                 241.5069657  89.5911056 281.2962502            \n",
              "Merc 230                  233.4924012  85.0079649 265.8823313  33.6873047\n",
              "Merc 280                  199.3344960  60.2909811 227.8998521  64.7754228\n",
              "Merc 280C                 199.3406564  60.2655656 227.8813169  64.8898713\n",
              "Merc 450SE                 84.3888482  90.6970264 106.4084264 175.1620073\n",
              "Merc 450SL                 84.3683999  90.6769728 106.4320572 175.1189767\n",
              "Merc 450SLC                84.4332423  90.7092989 106.4010305 175.2118218\n",
              "Cadillac Fleetwood        116.2804201 266.6280942 119.0239068 355.6627498\n",
              "Lincoln Continental       108.0624299 259.6304391 104.5112999 348.9901277\n",
              "Chrysler Imperial          97.2049146 248.7713290  81.4297699 338.1959373\n",
              "Fiat 128                  302.0377212 152.1153263 333.9792070  68.6105903\n",
              "Honda Civic               310.0324645 158.9615769 344.0518316  72.0014488\n",
              "Toyota Corolla            309.5581776 159.8302995 341.0218232  76.2806458\n",
              "Toyota Corona             252.3331988 105.2876428 282.0508820  44.0850975\n",
              "Dodge Challenger           48.9838851 103.4310693 103.9023864 192.8617917\n",
              "AMC Javelin                61.4274240  91.0444349 110.3084921 180.5479760\n",
              "Camaro Z28                 70.9665308 187.8463771  10.0761203 273.8367985\n",
              "Pontiac Firebird           40.0052475 188.5272116  80.8057339 277.4606884\n",
              "Fiat X1-9                 301.5669483 151.4379425 333.4843231  67.9163981\n",
              "Porsche 914-2             254.1452553 106.0585767 285.1986201  39.4469276\n",
              "Lotus Europa              272.3582423 130.8248192 296.4572287  72.8971106\n",
              "Ford Pantera L             89.5934049 203.0177926  21.2655990 287.5238795\n",
              "Ferrari Dino              215.0673853 106.5694802 226.2036333 113.3023005\n",
              "Maserati Bora             170.7094473 242.4393015 107.7224977 313.8633093\n",
              "Volvo 142E                248.0063378 104.1863681 275.1353516  53.6823481\n",
              "                       Merc 230    Merc 280   Merc 280C  Merc 450SE  Merc 450SL\n",
              "Mazda RX4 Wag                                                                  \n",
              "Datsun 710                                                                     \n",
              "Hornet 4 Drive                                                                 \n",
              "Hornet Sportabout                                                              \n",
              "Valiant                                                                        \n",
              "Duster 360                                                                     \n",
              "Merc 240D                                                                      \n",
              "Merc 230                                                                       \n",
              "Merc 280             39.2994160                                                \n",
              "Merc 280C            39.3868519   1.5231546                                    \n",
              "Merc 450SE          159.8179555 122.3642489 122.3461050                        \n",
              "Merc 450SL          159.7760899 122.3443771 122.3355492   0.9826495            \n",
              "Merc 450SLC         159.8495837 122.3934970 122.3586862   1.3726252   2.1383405\n",
              "Cadillac Fleetwood  349.2832611 315.3904859 315.3557081 197.8842803 197.9154476\n",
              "Lincoln Continental 341.3154316 306.6760719 306.6406187 187.5997191 187.6330806\n",
              "Chrysler Imperial   328.4335161 292.7146896 292.6989332 171.6600758 171.6743028\n",
              "Fiat 128             69.3127910 106.5053149 106.6829794 228.3247948 228.2592340\n",
              "Honda Civic          78.5387212 116.7280991 116.8711475 238.0141824 237.9588183\n",
              "Toyota Corolla       76.7731674 113.6290721 113.8118009 235.5183809 235.4481971\n",
              "Toyota Corona        21.0962017  54.3641713  54.4258314 176.6020527 176.5727477\n",
              "Dodge Challenger    185.8331870 152.8929263 152.8722437  51.8008639  51.8242520\n",
              "AMC Javelin         172.5312555 139.1457974 139.1181977  41.2080044  41.2411618\n",
              "Camaro Z28          257.7469734 219.5520854 219.5276434  98.7203049  98.7566899\n",
              "Pontiac Firebird    271.3871978 238.1726099 238.1806292 124.3368538 124.3204160\n",
              "Fiat X1-9            68.5564864 105.7412910 105.8560373 227.7627676 227.7173075\n",
              "Porsche 914-2        22.1180967  57.6458160  57.8473863 179.5034108 179.4550855\n",
              "Lotus Europa         50.1094030  74.1443580  74.3824296 193.3074449 193.2407697\n",
              "Ford Pantera L      269.9772035 231.4081306 231.4024263 112.8181834 112.8296774\n",
              "Ferrari Dino         80.6550953  56.8365103  56.8987601 131.0272205 131.0077635\n",
              "Maserati Bora       288.8755628 250.5874125 250.5774357 157.1633256 157.1768956\n",
              "Volvo 142E           24.6913548  48.8053450  48.8884618 170.4500681 170.4225164\n",
              "                    Merc 450SLC Cadillac Fleetwood Lincoln Continental\n",
              "Mazda RX4 Wag                                                         \n",
              "Datsun 710                                                            \n",
              "Hornet 4 Drive                                                        \n",
              "Hornet Sportabout                                                     \n",
              "Valiant                                                               \n",
              "Duster 360                                                            \n",
              "Merc 240D                                                             \n",
              "Merc 230                                                              \n",
              "Merc 280                                                              \n",
              "Merc 280C                                                             \n",
              "Merc 450SE                                                            \n",
              "Merc 450SL                                                            \n",
              "Merc 450SLC                                                           \n",
              "Cadillac Fleetwood  197.8526242                                       \n",
              "Lincoln Continental 187.5671081         15.6224446                    \n",
              "Chrysler Imperial   171.6557637         40.8399636          25.3714237\n",
              "Fiat 128            228.4051825        417.7687579         410.0206984\n",
              "Honda Civic         238.0828999        425.3271621         417.9679574\n",
              "Toyota Corolla      235.6024098        425.3446517         417.5429986\n",
              "Toyota Corona       176.6305359        368.3195488         360.0267515\n",
              "Dodge Challenger     51.8012606        163.6314881         156.2805020\n",
              "AMC Javelin          41.1929050        176.8610896         169.0925457\n",
              "Camaro Z28           98.7035830        128.4587210         114.0932078\n",
              "Pontiac Firebird    124.3726128         78.5385347          72.6947903\n",
              "Fiat X1-9           227.8176554        417.2490481         409.4998363\n",
              "Porsche 914-2       179.5720446        370.0956775         362.0145494\n",
              "Lotus Europa        193.3969216        388.5350012         379.4716659\n",
              "Ford Pantera L      112.8332602        134.8119464         119.7236456\n",
              "Ferrari Dino        131.0704490        328.5441628         317.7063117\n",
              "Maserati Bora       157.1683970        214.9366858         199.3420611\n",
              "Volvo 142E          170.4843735        364.1000930         355.4009443\n",
              "                    Chrysler Imperial    Fiat 128 Honda Civic Toyota Corolla\n",
              "Mazda RX4 Wag                                                               \n",
              "Datsun 710                                                                  \n",
              "Hornet 4 Drive                                                              \n",
              "Hornet Sportabout                                                           \n",
              "Valiant                                                                     \n",
              "Duster 360                                                                  \n",
              "Merc 240D                                                                   \n",
              "Merc 230                                                                    \n",
              "Merc 280                                                                    \n",
              "Merc 280C                                                                   \n",
              "Merc 450SE                                                                  \n",
              "Merc 450SL                                                                  \n",
              "Merc 450SLC                                                                 \n",
              "Cadillac Fleetwood                                                          \n",
              "Lincoln Continental                                                         \n",
              "Chrysler Imperial                                                           \n",
              "Fiat 128                  397.2276375                                       \n",
              "Honda Civic               405.8152201  14.5590942                           \n",
              "Toyota Corolla            404.6335386   7.8324789  14.3480626               \n",
              "Toyota Corona             346.5724649  52.8798281  63.8985563     59.8451285\n",
              "Dodge Challenger          145.9194779 254.2367888 261.8498815    261.8345312\n",
              "AMC Javelin               157.8097554 241.1203621 248.9636504    248.6917065\n",
              "Camaro Z28                 91.2880886 325.6636235 335.8883188    332.6589699\n",
              "Pontiac Firebird           68.2030747 339.5857659 347.0655360    347.1667643\n",
              "Fiat X1-9                 396.7597522   5.1473415  14.7807070     10.3922856\n",
              "Porsche 914-2             348.8466861  49.0644372  59.4588768     56.3243031\n",
              "Lotus Europa              364.5994326  49.9112509  64.0495153     53.8846563\n",
              "Ford Pantera L             95.3805385 337.1639236 347.8337714    343.9920962\n",
              "Ferrari Dino              300.1640703 128.3950054 141.7044478    133.4707617\n",
              "Maserati Bora             174.2936864 349.5338830 362.1620777    355.2601619\n",
              "Volvo 142E                341.2896659  61.3301247  73.3766041     67.7189421\n",
              "                    Toyota Corona Dodge Challenger AMC Javelin  Camaro Z28\n",
              "Mazda RX4 Wag                                                             \n",
              "Datsun 710                                                                \n",
              "Hornet 4 Drive                                                            \n",
              "Hornet Sportabout                                                         \n",
              "Valiant                                                                   \n",
              "Duster 360                                                                \n",
              "Merc 240D                                                                 \n",
              "Merc 230                                                                  \n",
              "Merc 280                                                                  \n",
              "Merc 280C                                                                 \n",
              "Merc 450SE                                                                \n",
              "Merc 450SL                                                                \n",
              "Merc 450SLC                                                               \n",
              "Cadillac Fleetwood                                                        \n",
              "Lincoln Continental                                                       \n",
              "Chrysler Imperial                                                         \n",
              "Fiat 128                                                                  \n",
              "Honda Civic                                                               \n",
              "Toyota Corolla                                                            \n",
              "Toyota Corona                                                             \n",
              "Dodge Challenger      205.0347927                                         \n",
              "AMC Javelin           191.5580526       14.0154995                        \n",
              "Camaro Z28            273.6316895      100.3046106 105.6062618            \n",
              "Pontiac Firebird      290.6240706       85.8075196  99.2836114  86.2665759\n",
              "Fiat X1-9              51.8411748      253.6624046 240.5266823 325.1490914\n",
              "Porsche 914-2           8.6535903      206.6452569 193.3080584 276.8924414\n",
              "Lotus Europa           31.2536926      226.5004836 212.7568765 287.6179004\n",
              "Ford Pantera L        285.1287911      118.7516779 123.3832044  19.3589023\n",
              "Ferrari Dino           82.2355734      174.9280395 161.1060307 216.7489910\n",
              "Maserati Bora         299.1865216      185.9059273 185.1553411 102.5946154\n",
              "Volvo 142E             12.2505275      201.3682522 187.6978440 266.5277736\n",
              "                    Pontiac Firebird   Fiat X1-9 Porsche 914-2 Lotus Europa\n",
              "Mazda RX4 Wag                                                              \n",
              "Datsun 710                                                                 \n",
              "Hornet 4 Drive                                                             \n",
              "Hornet Sportabout                                                          \n",
              "Valiant                                                                    \n",
              "Duster 360                                                                 \n",
              "Merc 240D                                                                  \n",
              "Merc 230                                                                   \n",
              "Merc 280                                                                   \n",
              "Merc 280C                                                                  \n",
              "Merc 450SE                                                                 \n",
              "Merc 450SL                                                                 \n",
              "Merc 450SLC                                                                \n",
              "Cadillac Fleetwood                                                         \n",
              "Lincoln Continental                                                        \n",
              "Chrysler Imperial                                                          \n",
              "Fiat 128                                                                   \n",
              "Honda Civic                                                                \n",
              "Toyota Corolla                                                             \n",
              "Toyota Corona                                                              \n",
              "Dodge Challenger                                                           \n",
              "AMC Javelin                                                                \n",
              "Camaro Z28                                                                 \n",
              "Pontiac Firebird                                                           \n",
              "Fiat X1-9                339.1396182                                       \n",
              "Porsche 914-2            292.1646488  48.3775209                           \n",
              "Lotus Europa             311.3862342  49.8406880    33.7678653             \n",
              "Ford Pantera L           101.7389686 336.7018783   288.5852993  297.5376920\n",
              "Ferrari Dino             255.0570519 127.8210813    87.9105966   80.4553451\n",
              "Maserati Bora            188.3240020 349.1199576   303.9222549  303.2796468\n",
              "Volvo 142E               286.7497823  60.4120429    18.7555858   27.8104457\n",
              "                    Ford Pantera L Ferrari Dino Maserati Bora\n",
              "Mazda RX4 Wag                                                \n",
              "Datsun 710                                                   \n",
              "Hornet 4 Drive                                               \n",
              "Hornet Sportabout                                            \n",
              "Valiant                                                      \n",
              "Duster 360                                                   \n",
              "Merc 240D                                                    \n",
              "Merc 230                                                     \n",
              "Merc 280                                                     \n",
              "Merc 280C                                                    \n",
              "Merc 450SE                                                   \n",
              "Merc 450SL                                                   \n",
              "Merc 450SLC                                                  \n",
              "Cadillac Fleetwood                                           \n",
              "Lincoln Continental                                          \n",
              "Chrysler Imperial                                            \n",
              "Fiat 128                                                     \n",
              "Honda Civic                                                  \n",
              "Toyota Corolla                                               \n",
              "Toyota Corona                                                \n",
              "Dodge Challenger                                             \n",
              "AMC Javelin                                                  \n",
              "Camaro Z28                                                   \n",
              "Pontiac Firebird                                             \n",
              "Fiat X1-9                                                    \n",
              "Porsche 914-2                                                \n",
              "Lotus Europa                                                 \n",
              "Ford Pantera L                                               \n",
              "Ferrari Dino           224.4587490                           \n",
              "Maserati Bora           86.9383253  223.5342175              \n",
              "Volvo 142E             277.4803312   70.4751034   289.1157363"
            ]
          },
          "metadata": {},
          "output_type": "display_data"
        }
      ],
      "source": [
        "# Dissimilarity matrix\n",
        "d <- dist(mtcars, method = \"euclidean\")\n",
        "d"
      ]
    },
    {
      "cell_type": "markdown",
      "id": "e22519f0",
      "metadata": {
        "id": "e22519f0"
      },
      "source": [
        "Il faut spécifier la méthode d'agrégation à utiliser («lien simple», «lien complet», «lien moyen»,«ward»)"
      ]
    },
    {
      "cell_type": "markdown",
      "id": "e9b45a50",
      "metadata": {
        "id": "e9b45a50"
      },
      "source": [
        "avec la fonction agnes , vous pouvez également obtenir le coefficient d'agglomération, qui mesure la force de la structure du clustering en utilisant les méthodes d'agrégation(des valeurs plus proches de 1 suggèrent une forte structure de clustering)."
      ]
    },
    {
      "cell_type": "code",
      "execution_count": null,
      "id": "20fb5f28",
      "metadata": {
        "id": "20fb5f28",
        "outputId": "74ec1129-1da6-4e19-8348-a6ca2f5628e5"
      },
      "outputs": [
        {
          "name": "stderr",
          "output_type": "stream",
          "text": [
            "Warning message:\n",
            "\"package 'cluster' was built under R version 3.6.3\""
          ]
        }
      ],
      "source": [
        "library(purrr)\n",
        "library(cluster)"
      ]
    },
    {
      "cell_type": "code",
      "execution_count": null,
      "id": "3a0c76e7",
      "metadata": {
        "id": "3a0c76e7",
        "outputId": "08e54486-6bee-44b9-e0e3-96b5310bf78c"
      },
      "outputs": [
        {
          "data": {
            "text/html": [
              "<dl class=dl-horizontal>\n",
              "\t<dt>average</dt>\n",
              "\t\t<dd>0.90561767017589</dd>\n",
              "\t<dt>single</dt>\n",
              "\t\t<dd>0.792404136056471</dd>\n",
              "\t<dt>complete</dt>\n",
              "\t\t<dd>0.936812294765325</dd>\n",
              "\t<dt>ward</dt>\n",
              "\t\t<dd>0.976510328226913</dd>\n",
              "</dl>\n"
            ],
            "text/latex": [
              "\\begin{description*}\n",
              "\\item[average] 0.90561767017589\n",
              "\\item[single] 0.792404136056471\n",
              "\\item[complete] 0.936812294765325\n",
              "\\item[ward] 0.976510328226913\n",
              "\\end{description*}\n"
            ],
            "text/markdown": [
              "average\n",
              ":   0.90561767017589single\n",
              ":   0.792404136056471complete\n",
              ":   0.936812294765325ward\n",
              ":   0.976510328226913\n",
              "\n"
            ],
            "text/plain": [
              "  average    single  complete      ward \n",
              "0.9056177 0.7924041 0.9368123 0.9765103 "
            ]
          },
          "metadata": {},
          "output_type": "display_data"
        }
      ],
      "source": [
        "m <- c( \"average\", \"single\", \"complete\", \"ward\")\n",
        "names(m) <- c( \"average\", \"single\", \"complete\", \"ward\")\n",
        "\n",
        "ac <- function(x) {\n",
        "  agnes(mtcars, method = x)$ac\n",
        "}\n",
        "\n",
        "map_dbl(m, ac)"
      ]
    },
    {
      "cell_type": "markdown",
      "id": "75dc3f30",
      "metadata": {
        "id": "75dc3f30"
      },
      "source": [
        "Ici, nous remarquons que la méthode de Ward identifie la structure de clustering la plus forte par rapport aux quatre méthodes évaluées."
      ]
    },
    {
      "cell_type": "markdown",
      "id": "9624d282",
      "metadata": {
        "id": "9624d282"
      },
      "source": [
        "*****************************************************************************"
      ]
    },
    {
      "cell_type": "markdown",
      "id": "e5a9aa0d",
      "metadata": {
        "id": "e5a9aa0d"
      },
      "source": [
        "Maintenant, nous pouvons appliquer la fonction hclust() pour exécuter une approche de clustering hiérarchique (agglomérative)."
      ]
    },
    {
      "cell_type": "code",
      "execution_count": null,
      "id": "ae80f6e9",
      "metadata": {
        "id": "ae80f6e9",
        "outputId": "1a8047c3-b467-410a-cd9f-939f82e9a98a"
      },
      "outputs": [
        {
          "data": {
            "text/plain": [
              "\n",
              "Call:\n",
              "hclust(d = d, method = \"ward.D\")\n",
              "\n",
              "Cluster method   : ward.D \n",
              "Distance         : euclidean \n",
              "Number of objects: 32 \n"
            ]
          },
          "metadata": {},
          "output_type": "display_data"
        }
      ],
      "source": [
        "Hierar_cl <- hclust(d, method = \"ward.D\")\n",
        "Hierar_cl"
      ]
    },
    {
      "cell_type": "code",
      "execution_count": null,
      "id": "42980645",
      "metadata": {
        "id": "42980645",
        "outputId": "f1f8b8ef-8e3e-4c56-ea9a-072488cc99ef"
      },
      "outputs": [
        {
          "data": {
            "image/png": "[encoded data removed]",
            "text/plain": [
              "Plot with title \"Dendrogramme de la classification des voitures\""
            ]
          },
          "metadata": {},
          "output_type": "display_data"
        }
      ],
      "source": [
        "plot(Hierar_cl, cex = 0.6, hang = -1,, main = \"Dendrogramme de la classification des voitures\")\n"
      ]
    },
    {
      "cell_type": "markdown",
      "id": "63c25d0f",
      "metadata": {
        "id": "63c25d0f"
      },
      "source": [
        "<h3>Découper le dendrogramme</h3>"
      ]
    },
    {
      "cell_type": "markdown",
      "id": "a04d170d",
      "metadata": {
        "id": "a04d170d"
      },
      "source": [
        "Pour obtenir une partition de la population, il suffit de découper le dendrogramme obtenu à une certaine hauteur. En premier lieu, une analyse de la forme du dendrogramme pourra nous donner une indication sur le nombre de classes à retenir. Dans notre exemple, deux branches bien distinctes apparaissent sur l’arbre.\n",
        "\n",
        "Pour nous aider, nous pouvons représenter les sauts d’inertie du dendrogramme selon le nombre de classes retenues."
      ]
    },
    {
      "cell_type": "code",
      "execution_count": null,
      "id": "6b406d55",
      "metadata": {
        "id": "6b406d55",
        "outputId": "7f7f917b-68d2-4122-e895-15523054db05"
      },
      "outputs": [
        {
          "data": {
            "image/png": "[encoded data removed]",
            "text/plain": [
              "plot without title"
            ]
          },
          "metadata": {},
          "output_type": "display_data"
        }
      ],
      "source": [
        "inertie <- sort(Hierar_cl$height, decreasing = TRUE)\n",
        "plot(inertie[1:20], type = \"s\", xlab = \"Nombre de classes\", ylab = \"Inertie\")\n"
      ]
    },
    {
      "cell_type": "markdown",
      "id": "0437d1b2",
      "metadata": {
        "id": "0437d1b2"
      },
      "source": [
        "On voit trois sauts assez nets à 2, 3 et 5 classes, que nous avons représentés ci-dessous respectivement en vert, en rouge et en bleu."
      ]
    },
    {
      "cell_type": "code",
      "execution_count": null,
      "id": "ca38039e",
      "metadata": {
        "id": "ca38039e",
        "outputId": "93b3433f-2d36-46cb-8779-a28f8eea3088"
      },
      "outputs": [
        {
          "data": {
            "image/png": "[encoded data removed]",
            "text/plain": [
              "plot without title"
            ]
          },
          "metadata": {},
          "output_type": "display_data"
        }
      ],
      "source": [
        "plot(inertie[1:20], type = \"s\", xlab = \"Nombre de classes\", ylab = \"Inertie\")\n",
        "points(c(2, 3, 5), inertie[c(2, 3, 5)], col = c(\"green3\", \"red3\", \"blue3\"), cex = 2, lwd = 3)"
      ]
    },
    {
      "cell_type": "markdown",
      "id": "2b0b54a8",
      "metadata": {
        "id": "2b0b54a8"
      },
      "source": [
        "*****************************************************************************************"
      ]
    },
    {
      "cell_type": "markdown",
      "id": "80e2d9b1",
      "metadata": {
        "id": "80e2d9b1"
      },
      "source": [
        "La fonction rect.hclust permet de visualiser les différentes partitions directement sur le dendrogramme."
      ]
    },
    {
      "cell_type": "code",
      "execution_count": null,
      "id": "c091f972",
      "metadata": {
        "id": "c091f972",
        "outputId": "1dc98f67-aad0-4e13-b510-b06da1033424"
      },
      "outputs": [
        {
          "data": {
            "image/png": "[encoded data removed]",
            "text/plain": [
              "Plot with title \"Partition en 2, 3 ou 5 classes\""
            ]
          },
          "metadata": {},
          "output_type": "display_data"
        }
      ],
      "source": [
        "plot(Hierar_cl, labels = FALSE, main = \"Partition en 2, 3 ou 5 classes\", xlab = \"\", ylab = \"\", sub = \"\", axes = FALSE, hang = -1)\n",
        "rect.hclust(Hierar_cl, 2, border = \"green3\")\n",
        "rect.hclust(Hierar_cl, 3, border = \"red3\")\n",
        "rect.hclust(Hierar_cl, 5, border = \"blue3\")"
      ]
    },
    {
      "cell_type": "markdown",
      "id": "fd078666",
      "metadata": {
        "id": "fd078666"
      },
      "source": [
        "L’extension JLutils (disponible sur GitHub) propose une fonction best.cutree qui permet de calculer cette indicateur à partir de n’importe quel dendrogramme calculé avec hclust ou agnes."
      ]
    },
    {
      "cell_type": "markdown",
      "id": "3db0d8b2",
      "metadata": {
        "id": "3db0d8b2"
      },
      "source": [
        "Par défaut, best.cutree indique quelle serait la meilleure partition entre 3 et 20 classes."
      ]
    },
    {
      "cell_type": "code",
      "execution_count": null,
      "id": "50f4d565",
      "metadata": {
        "id": "50f4d565"
      },
      "outputs": [],
      "source": [
        "#install.packages(\"remotes\")\n",
        "#remotes::install_github(\"larmarange/JLutils\")"
      ]
    },
    {
      "cell_type": "code",
      "execution_count": null,
      "id": "5a667642",
      "metadata": {
        "id": "5a667642"
      },
      "outputs": [],
      "source": [
        "library(JLutils)"
      ]
    },
    {
      "cell_type": "code",
      "execution_count": null,
      "id": "adedec11",
      "metadata": {
        "id": "adedec11",
        "outputId": "ce9e21be-bba7-44e2-fc2e-28205b66a648"
      },
      "outputs": [
        {
          "name": "stdout",
          "output_type": "stream",
          "text": [
            "[1] 3\n"
          ]
        }
      ],
      "source": [
        "best.cutree(Hierar_cl)"
      ]
    },
    {
      "cell_type": "code",
      "execution_count": null,
      "id": "998b19b6",
      "metadata": {
        "id": "998b19b6",
        "outputId": "cf7f1953-c201-45ad-ab54-48d7513bb8bf"
      },
      "outputs": [
        {
          "name": "stderr",
          "output_type": "stream",
          "text": [
            "Registered S3 method overwritten by 'pryr':\n",
            "  method      from\n",
            "  print.bytes Rcpp\n",
            "For best results, restart R session and update pander using devtools:: or remotes::install_github('rapporter/pander')\n"
          ]
        },
        {
          "data": {
            "text/html": [
              "<table>\n",
              "<thead><tr><th></th><th scope=col>Freq</th><th scope=col>% Valid</th><th scope=col>% Valid Cum.</th><th scope=col>% Total</th><th scope=col>% Total Cum.</th></tr></thead>\n",
              "<tbody>\n",
              "\t<tr><th scope=row>1</th><td>16     </td><td> 50.000</td><td> 50.000</td><td> 50.000</td><td> 50.000</td></tr>\n",
              "\t<tr><th scope=row>2</th><td> 7     </td><td> 21.875</td><td> 71.875</td><td> 21.875</td><td> 71.875</td></tr>\n",
              "\t<tr><th scope=row>3</th><td> 9     </td><td> 28.125</td><td>100.000</td><td> 28.125</td><td>100.000</td></tr>\n",
              "\t<tr><th scope=row>&lt;NA&gt;</th><td> 0     </td><td>     NA</td><td>     NA</td><td>  0.000</td><td>100.000</td></tr>\n",
              "\t<tr><th scope=row>Total</th><td>32     </td><td>100.000</td><td>100.000</td><td>100.000</td><td>100.000</td></tr>\n",
              "</tbody>\n",
              "</table>\n"
            ],
            "text/latex": [
              "\\begin{tabular}{r|lllll}\n",
              "  & Freq & \\% Valid & \\% Valid Cum. & \\% Total & \\% Total Cum.\\\\\n",
              "\\hline\n",
              "\t1 & 16      &  50.000 &  50.000 &  50.000 &  50.000\\\\\n",
              "\t2 &  7      &  21.875 &  71.875 &  21.875 &  71.875\\\\\n",
              "\t3 &  9      &  28.125 & 100.000 &  28.125 & 100.000\\\\\n",
              "\t<NA> &  0      &      NA &      NA &   0.000 & 100.000\\\\\n",
              "\tTotal & 32      & 100.000 & 100.000 & 100.000 & 100.000\\\\\n",
              "\\end{tabular}\n"
            ],
            "text/markdown": [
              "\n",
              "| <!--/--> | Freq | % Valid | % Valid Cum. | % Total | % Total Cum. |\n",
              "|---|---|---|---|---|---|\n",
              "| 1 | 16      |  50.000 |  50.000 |  50.000 |  50.000 |\n",
              "| 2 |  7      |  21.875 |  71.875 |  21.875 |  71.875 |\n",
              "| 3 |  9      |  28.125 | 100.000 |  28.125 | 100.000 |\n",
              "| <NA> |  0      |      NA |      NA |   0.000 | 100.000 |\n",
              "| Total | 32      | 100.000 | 100.000 | 100.000 | 100.000 |\n",
              "\n"
            ],
            "text/plain": [
              "      Freq % Valid % Valid Cum. % Total % Total Cum.\n",
              "1     16    50.000  50.000       50.000  50.000     \n",
              "2      7    21.875  71.875       21.875  71.875     \n",
              "3      9    28.125 100.000       28.125 100.000     \n",
              "<NA>   0        NA      NA        0.000 100.000     \n",
              "Total 32   100.000 100.000      100.000 100.000     "
            ]
          },
          "metadata": {},
          "output_type": "display_data"
        }
      ],
      "source": [
        "library(summarytools)\n",
        "newTree <-cutree(Hierar_cl,3)\n",
        "freq(newTree)"
      ]
    },
    {
      "cell_type": "markdown",
      "id": "0e581b11",
      "metadata": {
        "id": "0e581b11"
      },
      "source": [
        "*****************************************************************************************"
      ]
    },
    {
      "cell_type": "code",
      "execution_count": null,
      "id": "feefad29",
      "metadata": {
        "id": "feefad29",
        "outputId": "91c0c674-6663-443d-b96d-ed7ed7b3f8b4"
      },
      "outputs": [
        {
          "data": {
            "image/png": "[encoded data removed]",
            "text/plain": [
              "Plot with title \"Dendrogram\""
            ]
          },
          "metadata": {},
          "output_type": "display_data"
        }
      ],
      "source": [
        "library(dendextend)\n",
        "dend <- as.dendrogram(Hierar_cl)\n",
        "plot(dend, xlab = \"\", sub=\"\", ylab = \"Euclidean distance\",\n",
        "     main = \"Dendrogram\")\n",
        "rect.dendrogram(dend, k=3, border=\"red\")"
      ]
    },
    {
      "cell_type": "markdown",
      "id": "ad03fceb",
      "metadata": {
        "id": "ad03fceb"
      },
      "source": [
        "Le tracé indique le dendrogramme après avoir été coupé. Les lignes rouge indiquent le nombre de clusters"
      ]
    },
    {
      "cell_type": "code",
      "execution_count": null,
      "id": "fd74fa7f",
      "metadata": {
        "id": "fd74fa7f",
        "outputId": "6366017a-0a36-4e86-ccaa-bca29bfc7438"
      },
      "outputs": [
        {
          "name": "stderr",
          "output_type": "stream",
          "text": [
            "Warning message:\n",
            "\"package 'factoextra' was built under R version 3.6.3\"Loading required package: ggplot2\n",
            "Welcome! Want to learn more? See two factoextra-related books at https://goo.gl/ve3WBa\n"
          ]
        },
        {
          "data": {
            "image/png": "[encoded data removed]",
            "text/plain": [
              "plot without title"
            ]
          },
          "metadata": {},
          "output_type": "display_data"
        }
      ],
      "source": [
        "library(factoextra)\n",
        "fviz_cluster(list(data = mtcars, cluster = newTree))"
      ]
    }
  ],
  "metadata": {
    "kernelspec": {
      "display_name": "R",
      "language": "R",
      "name": "ir"
    },
    "language_info": {
      "codemirror_mode": "r",
      "file_extension": ".r",
      "mimetype": "text/x-r-source",
      "name": "R",
      "pygments_lexer": "r",
      "version": "3.6.1"
    },
    "colab": {
      "name": "cah.ipynb",
      "provenance": [],
      "collapsed_sections": []
    }
  },
  "nbformat": 4,
  "nbformat_minor": 5
}