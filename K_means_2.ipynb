{
  "cells": [
    {
      "cell_type": "markdown",
      "id": "65ca9387",
      "metadata": {
        "id": "65ca9387"
      },
      "source": [
        "# Importation  et inspection des données"
      ]
    },
    {
      "cell_type": "code",
      "execution_count": null,
      "id": "5d58eb52",
      "metadata": {
        "id": "5d58eb52",
        "outputId": "8aecfc19-89a7-4f8a-9053-242df79e0e99"
      },
      "outputs": [
        {
          "name": "stdout",
          "output_type": "stream",
          "text": [
            "'data.frame':\t29 obs. of  4 variables:\n",
            " $ sodium   : num  354 238 112 336 314 ...\n",
            " $ calcium  : num  72.6 209.8 259.4 211.1 215.9 ...\n",
            " $ lipides  : num  26.3 25.1 33.3 28.9 19.5 28.8 27.9 25.4 32.5 32.4 ...\n",
            " $ proteines: num  21 22.6 26.6 20.2 23.4 23 19.5 17.8 26 29.2 ...\n"
          ]
        }
      ],
      "source": [
        "#Tout d'abord,chargeons le fichier\n",
        "D<-read.table('fromage.txt',sep=\"\\t\",dec=\".\",header=TRUE)\n",
        "#afficher la structure des variables\n",
        "str(D)"
      ]
    },
    {
      "cell_type": "code",
      "execution_count": null,
      "id": "4717b58a",
      "metadata": {
        "id": "4717b58a",
        "outputId": "dc485841-a60b-42ae-e79a-0a2f397c5de5"
      },
      "outputs": [
        {
          "data": {
            "text/html": [
              "<table>\n",
              "<thead><tr><th scope=col>sodium</th><th scope=col>calcium</th><th scope=col>lipides</th><th scope=col>proteines</th></tr></thead>\n",
              "<tbody>\n",
              "\t<tr><td>353.5</td><td> 72.6</td><td>26.3 </td><td>21.0 </td></tr>\n",
              "\t<tr><td>238.0</td><td>209.8</td><td>25.1 </td><td>22.6 </td></tr>\n",
              "\t<tr><td>112.0</td><td>259.4</td><td>33.3 </td><td>26.6 </td></tr>\n",
              "\t<tr><td>336.0</td><td>211.1</td><td>28.9 </td><td>20.2 </td></tr>\n",
              "\t<tr><td>314.0</td><td>215.9</td><td>19.5 </td><td>23.4 </td></tr>\n",
              "\t<tr><td>256.0</td><td>264.0</td><td>28.8 </td><td>23.0 </td></tr>\n",
              "</tbody>\n",
              "</table>\n"
            ],
            "text/latex": [
              "\\begin{tabular}{r|llll}\n",
              " sodium & calcium & lipides & proteines\\\\\n",
              "\\hline\n",
              "\t 353.5 &  72.6 & 26.3  & 21.0 \\\\\n",
              "\t 238.0 & 209.8 & 25.1  & 22.6 \\\\\n",
              "\t 112.0 & 259.4 & 33.3  & 26.6 \\\\\n",
              "\t 336.0 & 211.1 & 28.9  & 20.2 \\\\\n",
              "\t 314.0 & 215.9 & 19.5  & 23.4 \\\\\n",
              "\t 256.0 & 264.0 & 28.8  & 23.0 \\\\\n",
              "\\end{tabular}\n"
            ],
            "text/markdown": [
              "\n",
              "| sodium | calcium | lipides | proteines |\n",
              "|---|---|---|---|\n",
              "| 353.5 |  72.6 | 26.3  | 21.0  |\n",
              "| 238.0 | 209.8 | 25.1  | 22.6  |\n",
              "| 112.0 | 259.4 | 33.3  | 26.6  |\n",
              "| 336.0 | 211.1 | 28.9  | 20.2  |\n",
              "| 314.0 | 215.9 | 19.5  | 23.4  |\n",
              "| 256.0 | 264.0 | 28.8  | 23.0  |\n",
              "\n"
            ],
            "text/plain": [
              "  sodium calcium lipides proteines\n",
              "1 353.5   72.6   26.3    21.0     \n",
              "2 238.0  209.8   25.1    22.6     \n",
              "3 112.0  259.4   33.3    26.6     \n",
              "4 336.0  211.1   28.9    20.2     \n",
              "5 314.0  215.9   19.5    23.4     \n",
              "6 256.0  264.0   28.8    23.0     "
            ]
          },
          "metadata": {},
          "output_type": "display_data"
        }
      ],
      "source": [
        "#affichons les premières lignes\n",
        "head(D)"
      ]
    },
    {
      "cell_type": "markdown",
      "id": "1454d0b6",
      "metadata": {
        "id": "1454d0b6"
      },
      "source": [
        "# nuages par pairs"
      ]
    },
    {
      "cell_type": "code",
      "execution_count": null,
      "id": "5938ed95",
      "metadata": {
        "scrolled": true,
        "id": "5938ed95",
        "outputId": "fbceefae-ceab-40cd-9940-37f2facbc6bb"
      },
      "outputs": [
        {
          "data": {
            "image/png": "[encoded data removed]",
            "text/plain": [
              "plot without title"
            ]
          },
          "metadata": {},
          "output_type": "display_data"
        }
      ],
      "source": [
        "#Pour voir les points qui sont proches dans l'espace d'observation\n",
        "pairs(D)\n",
        "#l'idée c'est toujours trouver des blocs et voir aussi s'il y a des corrélations entre les variables."
      ]
    },
    {
      "cell_type": "markdown",
      "id": "bc658c09",
      "metadata": {
        "id": "bc658c09"
      },
      "source": [
        "On voit clairement que la variable proteines et lipides sont liées positivement \n",
        "(quand la teneur en proteines augmente la teneur en lipides augmente également)\n",
        "\n",
        "Mais c'est pas facile de trouver des groupes(clustes) en se basant juste sur ce graphique là."
      ]
    },
    {
      "cell_type": "markdown",
      "id": "82c43d73",
      "metadata": {
        "id": "82c43d73"
      },
      "source": [
        "# moyennes des variables"
      ]
    },
    {
      "cell_type": "code",
      "execution_count": null,
      "id": "b530dc44",
      "metadata": {
        "id": "b530dc44",
        "outputId": "a17d4444-6fb5-4fbb-96b0-a1f31406b8bd"
      },
      "outputs": [
        {
          "name": "stdout",
          "output_type": "stream",
          "text": [
            "   sodium   calcium   lipides proteines \n",
            "210.08621 185.73448  24.15862  20.16897 \n"
          ]
        }
      ],
      "source": [
        "print(colMeans(D))"
      ]
    },
    {
      "cell_type": "markdown",
      "id": "ef07f58c",
      "metadata": {
        "id": "ef07f58c"
      },
      "source": [
        "Les valeurs pour les quatres variables dans le jeu de données fromage ne sont pas sur la même échelle.\n",
        "\n",
        "En effet leurs moyennes et écarts-types empiriques ne sont pas similaires.\n",
        "\n",
        "alors on doit les standariser (les normaliser) par une fonction s'appelle scale."
      ]
    },
    {
      "cell_type": "markdown",
      "id": "72f674f6",
      "metadata": {
        "id": "72f674f6"
      },
      "source": [
        "# centrage-réduction"
      ]
    },
    {
      "cell_type": "code",
      "execution_count": null,
      "id": "c930d554",
      "metadata": {
        "id": "c930d554",
        "outputId": "19a5261d-3bee-478d-df95-ba3f53c891f6"
      },
      "outputs": [
        {
          "name": "stdout",
          "output_type": "stream",
          "text": [
            "       sodium       calcium       lipides     proteines \n",
            " 8.637727e-17  4.570099e-17 -8.207037e-17  1.327363e-16 \n"
          ]
        }
      ],
      "source": [
        "z<-scale(D)\n",
        "print(colMeans(z))"
      ]
    },
    {
      "cell_type": "markdown",
      "id": "c842f01e",
      "metadata": {
        "id": "c842f01e"
      },
      "source": [
        "Les valeurs dans chacune des colonnes de z ont une moyenne presque 0 et un écart-type de 1.\n",
        "\n",
        "Elles sont donc sur la même échelle."
      ]
    },
    {
      "cell_type": "code",
      "execution_count": null,
      "id": "3d2569c0",
      "metadata": {
        "id": "3d2569c0",
        "outputId": "953270e4-dee4-43af-c286-da550a178221"
      },
      "outputs": [
        {
          "data": {
            "text/html": [
              "<dl class=dl-horizontal>\n",
              "\t<dt>sodium</dt>\n",
              "\t\t<dd>1</dd>\n",
              "\t<dt>calcium</dt>\n",
              "\t\t<dd>1</dd>\n",
              "\t<dt>lipides</dt>\n",
              "\t\t<dd>1</dd>\n",
              "\t<dt>proteines</dt>\n",
              "\t\t<dd>1</dd>\n",
              "</dl>\n"
            ],
            "text/latex": [
              "\\begin{description*}\n",
              "\\item[sodium] 1\n",
              "\\item[calcium] 1\n",
              "\\item[lipides] 1\n",
              "\\item[proteines] 1\n",
              "\\end{description*}\n"
            ],
            "text/markdown": [
              "sodium\n",
              ":   1calcium\n",
              ":   1lipides\n",
              ":   1proteines\n",
              ":   1\n",
              "\n"
            ],
            "text/plain": [
              "   sodium   calcium   lipides proteines \n",
              "        1         1         1         1 "
            ]
          },
          "metadata": {},
          "output_type": "display_data"
        }
      ],
      "source": [
        "#calcul des écarts-type sur les variables transformées\n",
        "apply(z,2,sd)"
      ]
    },
    {
      "cell_type": "markdown",
      "id": "a2d59c02",
      "metadata": {
        "id": "a2d59c02"
      },
      "source": [
        "# K-Means et interprétations"
      ]
    },
    {
      "cell_type": "code",
      "execution_count": null,
      "id": "119bf777",
      "metadata": {
        "id": "119bf777",
        "outputId": "4bb08d89-6781-4cd3-af52-787be3a09dde"
      },
      "outputs": [
        {
          "name": "stdout",
          "output_type": "stream",
          "text": [
            "K-means clustering with 2 clusters of sizes 24, 5\n",
            "\n",
            "Cluster means:\n",
            "      sodium    calcium   lipides  proteines\n",
            "1  0.2727572  0.1843360  0.395636  0.3648628\n",
            "2 -1.3092346 -0.8848128 -1.899053 -1.7513416\n",
            "\n",
            "Clustering vector:\n",
            " [1] 1 1 1 1 1 1 1 1 1 1 1 1 1 2 1 2 2 1 1 1 2 1 1 1 1 1 1 1 2\n",
            "\n",
            "Within cluster sum of squares by cluster:\n",
            "[1] 49.770416  6.823948\n",
            " (between_SS / total_SS =  49.5 %)\n",
            "\n",
            "Available components:\n",
            "\n",
            "[1] \"cluster\"      \"centers\"      \"totss\"        \"withinss\"     \"tot.withinss\"\n",
            "[6] \"betweenss\"    \"size\"         \"iter\"         \"ifault\"      \n"
          ]
        }
      ],
      "source": [
        "#k-means avec 2 groupes\n",
        "res<-kmeans(z,centers=2)\n",
        "print(res)"
      ]
    },
    {
      "cell_type": "markdown",
      "id": "deb48140",
      "metadata": {
        "id": "deb48140"
      },
      "source": [
        "- Inertie intra classe(heterogenite des classes)\n",
        "- qualite de partitionnement=Inertie explique par le partitionnement/Inertie totale"
      ]
    },
    {
      "cell_type": "markdown",
      "id": "88061052",
      "metadata": {
        "id": "88061052"
      },
      "source": [
        "# Groupes d'appartenance"
      ]
    },
    {
      "cell_type": "code",
      "execution_count": null,
      "id": "9f55ed23",
      "metadata": {
        "id": "9f55ed23",
        "outputId": "8b8bab77-9b3e-4e4b-9d88-be79ec69900d"
      },
      "outputs": [
        {
          "name": "stdout",
          "output_type": "stream",
          "text": [
            " [1] 1 1 1 1 1 1 1 1 1 1 1 1 1 2 1 2 2 1 1 1 2 1 1 1 1 1 1 1 2\n"
          ]
        }
      ],
      "source": [
        "#liste des clusters\n",
        "print(res$cluster)"
      ]
    },
    {
      "cell_type": "code",
      "execution_count": null,
      "id": "36bcb771",
      "metadata": {
        "id": "36bcb771",
        "outputId": "cb3822c0-0341-4708-8c56-34ba9e909131"
      },
      "outputs": [
        {
          "name": "stdout",
          "output_type": "stream",
          "text": [
            "\n",
            " 1  2 \n",
            "24  5 \n"
          ]
        }
      ],
      "source": [
        "#effectifs par groupe\n",
        "print(table(res$cluster))"
      ]
    },
    {
      "cell_type": "raw",
      "id": "d5a86bd4",
      "metadata": {
        "id": "d5a86bd4"
      },
      "source": [
        "Regardons maintenant dans l'espace d'observation comment se situent les 2 groupes"
      ]
    },
    {
      "cell_type": "code",
      "execution_count": null,
      "id": "fa570c6d",
      "metadata": {
        "id": "fa570c6d",
        "outputId": "222efa08-38f7-45bd-a67c-552206bd35e0"
      },
      "outputs": [
        {
          "data": {
            "image/png": "[encoded data removed]",
            "text/plain": [
              "plot without title"
            ]
          },
          "metadata": {},
          "output_type": "display_data"
        }
      ],
      "source": [
        "#configuration des points\n",
        "pairs(D,col=c('green','blue')[res$cluster])"
      ]
    },
    {
      "cell_type": "markdown",
      "id": "ebb9a3f3",
      "metadata": {
        "id": "ebb9a3f3"
      },
      "source": [
        "Donc effectivement ce qu'on avait intuitivement compris quand on a fait le graphique est confirmes par le calcul\n",
        "\n",
        "- les 2 groupes se demarquent bien sur les proteines et les lipides\n",
        "\n",
        "- Pour les 2 autres variables c'est difficile de les décerner"
      ]
    },
    {
      "cell_type": "markdown",
      "id": "b0f36b7e",
      "metadata": {
        "id": "b0f36b7e"
      },
      "source": [
        "# calcul des moyennes conditionnelles"
      ]
    },
    {
      "cell_type": "code",
      "execution_count": null,
      "id": "c2b7c657",
      "metadata": {
        "id": "c2b7c657",
        "outputId": "f6103d3a-4d08-4e44-e4d3-59478b730e47"
      },
      "outputs": [
        {
          "name": "stdout",
          "output_type": "stream",
          "text": [
            "  Group.1   sodium  calcium lipides proteines\n",
            "1       1 239.7292 199.1042  27.375  22.70833\n",
            "2       2  67.8000 121.5600   8.720   7.98000\n"
          ]
        }
      ],
      "source": [
        "#calcul des moyennes conditionnelles\n",
        "print(aggregate(x=D,by=list(res$cluster),FUN=mean))"
      ]
    },
    {
      "cell_type": "markdown",
      "id": "96034ea7",
      "metadata": {
        "id": "96034ea7"
      },
      "source": [
        "C'est un calcul conditionnelle sur D(les variables{sodium,calcium,lipides,proteines}) \n",
        "regroupées selon l'appartenance au cluster et la fonction appliquée à chaque groupe d'individus c'est la fonction moyenne.\n",
        "\n",
        "\n",
        "On voit que les fromages du groupe 2 ont en moyenne une teneur en proteines 7.98 et pour le groupe 1 une teneur de 22.70"
      ]
    },
    {
      "cell_type": "markdown",
      "id": "14527555",
      "metadata": {
        "id": "14527555"
      },
      "source": [
        "# Détection du nombre de groupes"
      ]
    },
    {
      "cell_type": "markdown",
      "id": "6f9460cf",
      "metadata": {
        "id": "6f9460cf"
      },
      "source": [
        "Comment detecter le nbr de groupes?\n",
        "\n",
        "Il y a plusieurs techniques mais la plus simple reste la regle du coude (je fais evoluer le nbr de groupes et je surveille\n",
        "                                                                    l'evolution d'un critere de qualite de partitionnement)\n",
        "\n",
        "- Le critere le plus interessant qui est en relation directe avec la methode c'est le rapport entre l'inertie inter et totale.\n",
        "(Inertie expliquee)"
      ]
    },
    {
      "cell_type": "code",
      "execution_count": null,
      "id": "77950e9e",
      "metadata": {
        "id": "77950e9e",
        "outputId": "253712ed-192f-47f8-c0e8-91df45d6a797"
      },
      "outputs": [
        {
          "name": "stdout",
          "output_type": "stream",
          "text": [
            " [1] 0.0000000 0.4946932 0.6880427 0.7538895 0.7960392 0.8273518 0.8507465\n",
            " [8] 0.8788462 0.8892754 0.8880534\n"
          ]
        }
      ],
      "source": [
        "#identification du nombre de groupes\n",
        "BT<-c()    #creation d'un vecteur où on va récolter les résultats\n",
        "for (k in 1:10){      #là on va évoluer le nombre de cluster de 1 à 10\n",
        "    tmp<-kmeans(z,centers=k)\n",
        "    BT[k]<-tmp$betweenss/tmp$totss  #dans le vecteur BT a l'indice k je fais le rapport(inertie inter-classe/inertie totale)\n",
        "}\n",
        "#affichage\n",
        "print(BT)"
      ]
    },
    {
      "cell_type": "markdown",
      "id": "2d0aaa24",
      "metadata": {
        "id": "2d0aaa24"
      },
      "source": [
        "Quand le nombre de groupe égale à 1 le ratio égale à 0 ensuite il évolue et il augmente\n",
        "tout le temps jusqu'à on arrive à 29 où la valeur égale à 1\n",
        "\n",
        "Mais la question ici c'est: quand le ratio n'est plus intéressant?\n",
        "\n",
        "c'est pour cela qu'on doit faire un graphique représentant les résultats obtenus"
      ]
    },
    {
      "cell_type": "code",
      "execution_count": null,
      "id": "3635a535",
      "metadata": {
        "id": "3635a535",
        "outputId": "6ae640ac-2c55-4740-9afc-3820e82df542"
      },
      "outputs": [
        {
          "data": {
            "image/png": "[encoded data removed]",
            "text/plain": [
              "Plot with title \"Inertie explique vs. nb de groupes\""
            ]
          },
          "metadata": {},
          "output_type": "display_data"
        }
      ],
      "source": [
        "#graphique\n",
        "plot(1:10,BT,type='b',main='Inertie explique vs. nb de groupes')\n"
      ]
    },
    {
      "cell_type": "markdown",
      "id": "5c6629e3",
      "metadata": {
        "id": "5c6629e3"
      },
      "source": [
        "- En fait quand on passe à deux groupes on gagne beaucoup.\n",
        "\n",
        "- Quand on passe à 3 groupes on gagne toujours moins mais on gagne quand meme ce qui parait interessant dans le graphique.\n",
        "\n",
        "- Quand je passe de 3 à 4 on voit qu'il est de plus en plus horizontal et que le gain est moins interressant\n",
        "\n",
        "- Alors il y a deux solutions c'est une solution  2 groupes ou bien une soltion à 3 groupes"
      ]
    },
    {
      "cell_type": "markdown",
      "id": "8d43a36c",
      "metadata": {
        "id": "8d43a36c"
      },
      "source": [
        "# Partition en 3 classes"
      ]
    },
    {
      "cell_type": "code",
      "execution_count": null,
      "id": "f82c15f4",
      "metadata": {
        "id": "f82c15f4",
        "outputId": "0dda927b-096d-46c2-cd85-b77e328b208d"
      },
      "outputs": [
        {
          "name": "stdout",
          "output_type": "stream",
          "text": [
            "K-means clustering with 3 clusters of sizes 15, 9, 5\n",
            "\n",
            "Cluster means:\n",
            "      sodium    calcium    lipides   proteines\n",
            "1  0.7221314 -0.3012292  0.2740645  0.06672155\n",
            "2 -0.4761997  0.9936113  0.5982553  0.86176495\n",
            "3 -1.3092346 -0.8848128 -1.8990529 -1.75134156\n",
            "\n",
            "Clustering vector:\n",
            " [1] 1 1 2 1 1 2 1 1 2 2 1 2 2 3 1 3 3 1 1 2 3 1 1 1 1 2 1 2 3\n",
            "\n",
            "Within cluster sum of squares by cluster:\n",
            "[1] 16.157411 11.957863  6.823948\n",
            " (between_SS / total_SS =  68.8 %)\n",
            "\n",
            "Available components:\n",
            "\n",
            "[1] \"cluster\"      \"centers\"      \"totss\"        \"withinss\"     \"tot.withinss\"\n",
            "[6] \"betweenss\"    \"size\"         \"iter\"         \"ifault\"      \n"
          ]
        }
      ],
      "source": [
        "#K-means à 3 classes\n",
        "resBis<-kmeans(z,centers=3)\n",
        "print(resBis)"
      ]
    },
    {
      "cell_type": "markdown",
      "id": "2fb9e067",
      "metadata": {
        "id": "2fb9e067"
      },
      "source": [
        "# Graphique "
      ]
    },
    {
      "cell_type": "code",
      "execution_count": null,
      "id": "2c4d4b10",
      "metadata": {
        "scrolled": false,
        "id": "2c4d4b10",
        "outputId": "ae242201-8050-4992-fbfa-5c3a1bcefc40"
      },
      "outputs": [
        {
          "data": {
            "image/png": "[encoded data removed]",
            "text/plain": [
              "plot without title"
            ]
          },
          "metadata": {},
          "output_type": "display_data"
        }
      ],
      "source": [
        "#configuration des points\n",
        "pairs(D,col=c('green','blue','red')[resBis$cluster])"
      ]
    }
  ],
  "metadata": {
    "kernelspec": {
      "display_name": "R",
      "language": "R",
      "name": "ir"
    },
    "language_info": {
      "codemirror_mode": "r",
      "file_extension": ".r",
      "mimetype": "text/x-r-source",
      "name": "R",
      "pygments_lexer": "r",
      "version": "3.6.1"
    },
    "colab": {
      "name": "K-means 2.ipynb",
      "provenance": [],
      "collapsed_sections": []
    }
  },
  "nbformat": 4,
  "nbformat_minor": 5
}